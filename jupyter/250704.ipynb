{
 "cells": [
  {
   "cell_type": "code",
   "execution_count": 11,
   "id": "f81c9093",
   "metadata": {},
   "outputs": [
    {
     "name": "stdout",
     "output_type": "stream",
     "text": [
      "팁 비율 : 10%\n",
      "총액 :  5500 달러\n"
     ]
    }
   ],
   "source": [
    "#6번\n",
    "\n",
    "food = int(input(\"음식 비용: \"))\n",
    "tip = 10\n",
    "print(\"팁 비율 : 10%\")\n",
    "print(\"총액 : \", int(food+food*tip*0.01),\"달러\")"
   ]
  },
  {
   "cell_type": "code",
   "execution_count": null,
   "id": "2489cfcb",
   "metadata": {},
   "outputs": [
    {
     "name": "stdout",
     "output_type": "stream",
     "text": [
      "두 점 사이의 거리 :  2.8284271247461903\n"
     ]
    }
   ],
   "source": [
    "#7번\n",
    "\n",
    "x1 = int(input(\"x1의 좌표 : \"))\n",
    "y1 = int(input(\"y1의 좌표 : \"))\n",
    "x2 = int(input(\"x2의 좌표 : \"))\n",
    "y2 = int(input(\"y2의 좌표 : \"))\n",
    "\n",
    "a = (((x1 - x2)**2) + ((y1-y2)**2))**0.5\n",
    "\n",
    "print(\"두 점 사이의 거리 : \", a)"
   ]
  },
  {
   "cell_type": "code",
   "execution_count": 14,
   "id": "c016ce89",
   "metadata": {},
   "outputs": [
    {
     "name": "stdout",
     "output_type": "stream",
     "text": [
      "5\n",
      "14\n"
     ]
    }
   ],
   "source": [
    "#9번\n",
    "\n",
    "num = int(input(\"정수 = \"))\n",
    "\n",
    "fourth = num//1000\n",
    "print(fourth)\n",
    "third = (num%1000)//100\n",
    "second = (num%100)//10\n",
    "first = (num%10)\n",
    "sum = fourth+third+second+first\n",
    "print(sum)"
   ]
  },
  {
   "cell_type": "code",
   "execution_count": 18,
   "id": "093a2e4d",
   "metadata": {},
   "outputs": [
    {
     "name": "stdout",
     "output_type": "stream",
     "text": [
      "666 , 666\n",
      "666,666\n",
      "666,666\n"
     ]
    }
   ],
   "source": [
    "#12번\n",
    "\n",
    "num=int(input(\"숫자를 입력하시오. : \"))\n",
    "\n",
    "if num>=100000 and num<1000000:\n",
    "  moreT = num//1000\n",
    "  lessT = num%1000\n",
    "  print(moreT,\",\",lessT)\n",
    "  \n",
    "  print(f\"{moreT},{lessT}\")\n",
    "  print(\"%d,%d\"%(moreT,lessT))"
   ]
  },
  {
   "cell_type": "code",
   "execution_count": 33,
   "id": "64a573be",
   "metadata": {},
   "outputs": [
    {
     "name": "stdout",
     "output_type": "stream",
     "text": [
      "12 살은\n",
      "어린이입니다.\n"
     ]
    }
   ],
   "source": [
    "age = int(input(\"나이를 입력하세요 : \"))\n",
    "print(age,\"살은\")\n",
    "if (age >= 20):\n",
    "  print(\"성인입니다.\")\n",
    "elif (age >= 18):\n",
    "  print(\"미성년자입니다.\")\n",
    "elif (age >= 13):\n",
    "  print(\"청소년입니다.\")\n",
    "elif (age>=7):\n",
    "  print(\"어린이입니다.\")\n",
    "elif (age<7):\n",
    "  print(\"유아입니다.\")\n",
    "else:\n",
    "  print(\"잘못된 입력입니다.\")"
   ]
  },
  {
   "cell_type": "code",
   "execution_count": 34,
   "id": "a9bbeccd",
   "metadata": {},
   "outputs": [
    {
     "name": "stdout",
     "output_type": "stream",
     "text": [
      "학점 D\n"
     ]
    }
   ],
   "source": [
    "score = int(input(\"성적을 입력하시오 : \"))\n",
    "\n",
    "if score >= 90:\n",
    "  print(\"학점 A\")\n",
    "elif score >= 80:\n",
    "  print(\"학점 B\")\n",
    "elif score >= 70:\n",
    "  print(\"학점 C\")\n",
    "elif score >= 60:\n",
    "  print(\"학점 D\")\n",
    "else:\n",
    "  print(\"학점 F\")"
   ]
  },
  {
   "cell_type": "code",
   "execution_count": 37,
   "id": "1d27d345",
   "metadata": {},
   "outputs": [
    {
     "name": "stdout",
     "output_type": "stream",
     "text": [
      "21개를 산다\n"
     ]
    }
   ],
   "source": [
    "appleQuality = input(\"사과의 상태를 입력하시오 : 신선? 오래된?\")\n",
    "applePrice = int(input(\"사과 1개의 가격을 입력하시오 : \"))\n",
    "\n",
    "if appleQuality == \"신선\":\n",
    "  if applePrice < 1000:\n",
    "    print(\"10개를 산다\")\n",
    "  else:\n",
    "    print(\"5개를 산다\")\n",
    "elif appleQuality == \"오래된\":\n",
    "  if applePrice < 500:\n",
    "    print(\"21개를 산다\")\n",
    "  else:\n",
    "    print(\"11개를 산다\")\n",
    "else:\n",
    "  print(\"사과를 사지않는다\")"
   ]
  },
  {
   "cell_type": "code",
   "execution_count": null,
   "id": "39b3724d",
   "metadata": {},
   "outputs": [
    {
     "name": "stdout",
     "output_type": "stream",
     "text": [
      "약수가 아닙니다\n"
     ]
    }
   ],
   "source": [
    "#if 조건문 1번\n",
    "\n",
    "x = int(input(\"첫 번째 정수 : \"))\n",
    "y = int(input(\"두 번째 정수 : \"))\n",
    "z = x % y\n",
    "\n",
    "if (z==0) :\n",
    "  print(\"약수입니다.\")\n",
    "else:\n",
    "  print(\"약수가 아닙니다\")"
   ]
  },
  {
   "cell_type": "code",
   "execution_count": null,
   "id": "be362157",
   "metadata": {},
   "outputs": [
    {
     "name": "stdout",
     "output_type": "stream",
     "text": [
      "긴바지를 추천\n"
     ]
    }
   ],
   "source": [
    "#if 조건문 2번\n",
    "\n",
    "x = int(input(\"현재 온도 : \"))\n",
    "\n",
    "if (x >= 25):\n",
    "  print(\"반바지를 추천\")\n",
    "else:\n",
    "  print(\"긴바지를 추천\")"
   ]
  },
  {
   "cell_type": "code",
   "execution_count": 57,
   "id": "704d59c7",
   "metadata": {},
   "outputs": [
    {
     "name": "stdout",
     "output_type": "stream",
     "text": [
      "Circle\n"
     ]
    }
   ],
   "source": [
    "#if 조건문 3번\n",
    "\n",
    "x = input(\"문자를 입력하시오 : \")\n",
    "\n",
    "if(x == \"R\" or x == \"r\"):\n",
    "  print(\"Rectangle\")\n",
    "elif(x == \"T\" or x == \"t\"):\n",
    "  print(\"Triangle\")\n",
    "elif(x == \"C\" or x == \"c\"):\n",
    "  print(\"Circle\")\n",
    "else:\n",
    "  print(\"Unknown\")\n"
   ]
  },
  {
   "cell_type": "code",
   "execution_count": null,
   "id": "665db173",
   "metadata": {},
   "outputs": [
    {
     "name": "stdout",
     "output_type": "stream",
     "text": [
      "원의 넓이는 :  50.24\n"
     ]
    }
   ],
   "source": [
    "#if 조건문 4번\n",
    "\n",
    "\n",
    "x = int(input(\"원의 반지름을 입력하시오 : \"))\n",
    "y = 3.14 * x * x\n",
    "\n",
    "if(y > 0):\n",
    "  print(\"원의 넓이는 : \", y)\n",
    "else:\n",
    "  print(\"잘못된 값입니다.\")"
   ]
  },
  {
   "cell_type": "code",
   "execution_count": null,
   "id": "b474b6e2",
   "metadata": {},
   "outputs": [
    {
     "name": "stdout",
     "output_type": "stream",
     "text": [
      "3\n"
     ]
    }
   ],
   "source": [
    "#if 조건문 5번\n",
    "\n",
    "a = int(input(\"첫 번째 정수 : \"))\n",
    "b = int(input(\"두 번째 정수 : \"))\n",
    "c = int(input(\"세 번째 정수 : \"))\n",
    "\n",
    "if(a<b and a<c):\n",
    "  print(a)\n",
    "elif(b<a and b<c):\n",
    "  print(b)\n",
    "else:\n",
    "  print(c)"
   ]
  },
  {
   "cell_type": "code",
   "execution_count": null,
   "id": "291aa497",
   "metadata": {},
   "outputs": [
    {
     "name": "stdout",
     "output_type": "stream",
     "text": [
      "상대는 가위 를 냈습니다.\n",
      "당신은 바위 를 냈습니다.\n",
      "이겼음\n"
     ]
    }
   ],
   "source": [
    "#if 조건문 6번\n",
    "\n",
    "import random\n",
    "\n",
    "a = [\"가위\",\"바위\",\"보\"]\n",
    "b = random.choice(a)\n",
    "\n",
    "c = input(\"가위 바위 보 중 하나를 선택하세요 : \")\n",
    "\n",
    "print(\"상대는\", b,\"를 냈습니다.\")\n",
    "print(\"당신은\", c,\"를 냈습니다.\")\n",
    "\n",
    "if (c == \"가위\" and b == \"보\") or (c == \"바위\" and b == \"가위\") or (c == \"보\" and b == \"바위\"):\n",
    "  print(\"이겼음\")\n",
    "elif (c == \"가위\" and b == \"가위\") or (c == \"바위\" and b == \"바위\") or (c == \"보\" and b == \"보\"):\n",
    "  print(\"비겼음\")\n",
    "else:\n",
    "  print(\"졌음\")"
   ]
  }
 ],
 "metadata": {
  "kernelspec": {
   "display_name": "Python 3",
   "language": "python",
   "name": "python3"
  },
  "language_info": {
   "codemirror_mode": {
    "name": "ipython",
    "version": 3
   },
   "file_extension": ".py",
   "mimetype": "text/x-python",
   "name": "python",
   "nbconvert_exporter": "python",
   "pygments_lexer": "ipython3",
   "version": "3.12.5"
  }
 },
 "nbformat": 4,
 "nbformat_minor": 5
}
