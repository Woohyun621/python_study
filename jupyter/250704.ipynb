{
 "cells": [
  {
   "cell_type": "code",
   "execution_count": 11,
   "id": "f81c9093",
   "metadata": {},
   "outputs": [
    {
     "name": "stdout",
     "output_type": "stream",
     "text": [
      "팁 비율 : 10%\n",
      "총액 :  5500 달러\n"
     ]
    }
   ],
   "source": [
    "#6번\n",
    "\n",
    "food = int(input(\"음식 비용: \"))\n",
    "tip = 10\n",
    "print(\"팁 비율 : 10%\")\n",
    "print(\"총액 : \", int(food+food*tip*0.01),\"달러\")"
   ]
  },
  {
   "cell_type": "code",
   "execution_count": null,
   "id": "2489cfcb",
   "metadata": {},
   "outputs": [
    {
     "name": "stdout",
     "output_type": "stream",
     "text": [
      "두 점 사이의 거리 :  2.8284271247461903\n"
     ]
    }
   ],
   "source": [
    "#7번\n",
    "\n",
    "x1 = int(input(\"x1의 좌표 : \"))\n",
    "y1 = int(input(\"y1의 좌표 : \"))\n",
    "x2 = int(input(\"x2의 좌표 : \"))\n",
    "y2 = int(input(\"y2의 좌표 : \"))\n",
    "\n",
    "a = (((x1 - x2)**2) + ((y1-y2)**2))**0.5\n",
    "\n",
    "print(\"두 점 사이의 거리 : \", a)"
   ]
  },
  {
   "cell_type": "code",
   "execution_count": 14,
   "id": "c016ce89",
   "metadata": {},
   "outputs": [
    {
     "name": "stdout",
     "output_type": "stream",
     "text": [
      "5\n",
      "14\n"
     ]
    }
   ],
   "source": [
    "#9번\n",
    "\n",
    "num = int(input(\"정수 = \"))\n",
    "\n",
    "fourth = num//1000\n",
    "print(fourth)\n",
    "third = (num%1000)//100\n",
    "second = (num%100)//10\n",
    "first = (num%10)\n",
    "sum = fourth+third+second+first\n",
    "print(sum)"
   ]
  },
  {
   "cell_type": "code",
   "execution_count": 18,
   "id": "093a2e4d",
   "metadata": {},
   "outputs": [
    {
     "name": "stdout",
     "output_type": "stream",
     "text": [
      "666 , 666\n",
      "666,666\n",
      "666,666\n"
     ]
    }
   ],
   "source": [
    "#12번\n",
    "\n",
    "num=int(input(\"숫자를 입력하시오. : \"))\n",
    "\n",
    "if num>=100000 and num<1000000:\n",
    "  moreT = num//1000\n",
    "  lessT = num%1000\n",
    "  print(moreT,\",\",lessT)\n",
    "  \n",
    "  print(f\"{moreT},{lessT}\")\n",
    "  print(\"%d,%d\"%(moreT,lessT))"
   ]
  }
 ],
 "metadata": {
  "kernelspec": {
   "display_name": "Python 3",
   "language": "python",
   "name": "python3"
  },
  "language_info": {
   "codemirror_mode": {
    "name": "ipython",
    "version": 3
   },
   "file_extension": ".py",
   "mimetype": "text/x-python",
   "name": "python",
   "nbconvert_exporter": "python",
   "pygments_lexer": "ipython3",
   "version": "3.12.5"
  }
 },
 "nbformat": 4,
 "nbformat_minor": 5
}
