{
 "cells": [
  {
   "cell_type": "code",
   "execution_count": 11,
   "id": "f81c9093",
   "metadata": {},
   "outputs": [
    {
     "name": "stdout",
     "output_type": "stream",
     "text": [
      "팁 비율 : 10%\n",
      "총액 :  5500 달러\n"
     ]
    }
   ],
   "source": [
    "#6번\n",
    "\n",
    "food = int(input(\"음식 비용: \"))\n",
    "tip = 10\n",
    "print(\"팁 비율 : 10%\")\n",
    "print(\"총액 : \", int(food+food*tip*0.01),\"달러\")"
   ]
  },
  {
   "cell_type": "code",
   "execution_count": null,
   "id": "2489cfcb",
   "metadata": {},
   "outputs": [
    {
     "name": "stdout",
     "output_type": "stream",
     "text": [
      "두 점 사이의 거리 :  2.8284271247461903\n"
     ]
    }
   ],
   "source": [
    "#7번\n",
    "\n",
    "x1 = int(input(\"x1의 좌표 : \"))\n",
    "y1 = int(input(\"y1의 좌표 : \"))\n",
    "x2 = int(input(\"x2의 좌표 : \"))\n",
    "y2 = int(input(\"y2의 좌표 : \"))\n",
    "\n",
    "a = (((x1 - x2)**2) + ((y1-y2)**2))**0.5\n",
    "\n",
    "print(\"두 점 사이의 거리 : \", a)"
   ]
  },
  {
   "cell_type": "code",
   "execution_count": 14,
   "id": "c016ce89",
   "metadata": {},
   "outputs": [
    {
     "name": "stdout",
     "output_type": "stream",
     "text": [
      "5\n",
      "14\n"
     ]
    }
   ],
   "source": [
    "#9번\n",
    "\n",
    "num = int(input(\"정수 = \"))\n",
    "\n",
    "fourth = num//1000\n",
    "print(fourth)\n",
    "third = (num%1000)//100\n",
    "second = (num%100)//10\n",
    "first = (num%10)\n",
    "sum = fourth+third+second+first\n",
    "print(sum)"
   ]
  },
  {
   "cell_type": "code",
   "execution_count": 18,
   "id": "093a2e4d",
   "metadata": {},
   "outputs": [
    {
     "name": "stdout",
     "output_type": "stream",
     "text": [
      "666 , 666\n",
      "666,666\n",
      "666,666\n"
     ]
    }
   ],
   "source": [
    "#12번\n",
    "\n",
    "num=int(input(\"숫자를 입력하시오. : \"))\n",
    "\n",
    "if num>=100000 and num<1000000:\n",
    "  moreT = num//1000\n",
    "  lessT = num%1000\n",
    "  print(moreT,\",\",lessT)\n",
    "  \n",
    "  print(f\"{moreT},{lessT}\")\n",
    "  print(\"%d,%d\"%(moreT,lessT))"
   ]
  },
  {
   "cell_type": "code",
   "execution_count": 33,
   "id": "64a573be",
   "metadata": {},
   "outputs": [
    {
     "name": "stdout",
     "output_type": "stream",
     "text": [
      "12 살은\n",
      "어린이입니다.\n"
     ]
    }
   ],
   "source": [
    "age = int(input(\"나이를 입력하세요 : \"))\n",
    "print(age,\"살은\")\n",
    "if (age >= 20):\n",
    "  print(\"성인입니다.\")\n",
    "elif (age >= 18):\n",
    "  print(\"미성년자입니다.\")\n",
    "elif (age >= 13):\n",
    "  print(\"청소년입니다.\")\n",
    "elif (age>=7):\n",
    "  print(\"어린이입니다.\")\n",
    "elif (age<7):\n",
    "  print(\"유아입니다.\")\n",
    "else:\n",
    "  print(\"잘못된 입력입니다.\")"
   ]
  },
  {
   "cell_type": "code",
   "execution_count": 34,
   "id": "a9bbeccd",
   "metadata": {},
   "outputs": [
    {
     "name": "stdout",
     "output_type": "stream",
     "text": [
      "학점 D\n"
     ]
    }
   ],
   "source": [
    "score = int(input(\"성적을 입력하시오 : \"))\n",
    "\n",
    "if score >= 90:\n",
    "  print(\"학점 A\")\n",
    "elif score >= 80:\n",
    "  print(\"학점 B\")\n",
    "elif score >= 70:\n",
    "  print(\"학점 C\")\n",
    "elif score >= 60:\n",
    "  print(\"학점 D\")\n",
    "else:\n",
    "  print(\"학점 F\")"
   ]
  },
  {
   "cell_type": "code",
   "execution_count": 37,
   "id": "1d27d345",
   "metadata": {},
   "outputs": [
    {
     "name": "stdout",
     "output_type": "stream",
     "text": [
      "21개를 산다\n"
     ]
    }
   ],
   "source": [
    "appleQuality = input(\"사과의 상태를 입력하시오 : 신선? 오래된?\")\n",
    "applePrice = int(input(\"사과 1개의 가격을 입력하시오 : \"))\n",
    "\n",
    "if appleQuality == \"신선\":\n",
    "  if applePrice < 1000:\n",
    "    print(\"10개를 산다\")\n",
    "  else:\n",
    "    print(\"5개를 산다\")\n",
    "elif appleQuality == \"오래된\":\n",
    "  if applePrice < 500:\n",
    "    print(\"21개를 산다\")\n",
    "  else:\n",
    "    print(\"11개를 산다\")\n",
    "else:\n",
    "  print(\"사과를 사지않는다\")"
   ]
  },
  {
   "cell_type": "code",
   "execution_count": null,
   "id": "39b3724d",
   "metadata": {},
   "outputs": [
    {
     "name": "stdout",
     "output_type": "stream",
     "text": [
      "약수가 아닙니다\n"
     ]
    }
   ],
   "source": [
    "#if 조건문 1번\n",
    "\n",
    "x = int(input(\"첫 번째 정수 : \"))\n",
    "y = int(input(\"두 번째 정수 : \"))\n",
    "z = x % y\n",
    "\n",
    "if (z==0) :\n",
    "  print(\"약수입니다.\")\n",
    "else:\n",
    "  print(\"약수가 아닙니다\")"
   ]
  },
  {
   "cell_type": "code",
   "execution_count": null,
   "id": "be362157",
   "metadata": {},
   "outputs": [
    {
     "name": "stdout",
     "output_type": "stream",
     "text": [
      "긴바지를 추천\n"
     ]
    }
   ],
   "source": [
    "#if 조건문 2번\n",
    "\n",
    "x = int(input(\"현재 온도 : \"))\n",
    "\n",
    "if (x >= 25):\n",
    "  print(\"반바지를 추천\")\n",
    "else:\n",
    "  print(\"긴바지를 추천\")"
   ]
  },
  {
   "cell_type": "code",
   "execution_count": 57,
   "id": "704d59c7",
   "metadata": {},
   "outputs": [
    {
     "name": "stdout",
     "output_type": "stream",
     "text": [
      "Circle\n"
     ]
    }
   ],
   "source": [
    "#if 조건문 3번\n",
    "\n",
    "x = input(\"문자를 입력하시오 : \")\n",
    "\n",
    "if(x == \"R\" or x == \"r\"):\n",
    "  print(\"Rectangle\")\n",
    "elif(x == \"T\" or x == \"t\"):\n",
    "  print(\"Triangle\")\n",
    "elif(x == \"C\" or x == \"c\"):\n",
    "  print(\"Circle\")\n",
    "else:\n",
    "  print(\"Unknown\")\n"
   ]
  },
  {
   "cell_type": "code",
   "execution_count": null,
   "id": "665db173",
   "metadata": {},
   "outputs": [
    {
     "name": "stdout",
     "output_type": "stream",
     "text": [
      "원의 넓이는 :  50.24\n"
     ]
    }
   ],
   "source": [
    "#if 조건문 4번\n",
    "\n",
    "\n",
    "x = int(input(\"원의 반지름을 입력하시오 : \"))\n",
    "y = 3.14 * x * x\n",
    "\n",
    "if(y > 0):\n",
    "  print(\"원의 넓이는 : \", y)\n",
    "else:\n",
    "  print(\"잘못된 값입니다.\")"
   ]
  },
  {
   "cell_type": "code",
   "execution_count": null,
   "id": "b474b6e2",
   "metadata": {},
   "outputs": [
    {
     "name": "stdout",
     "output_type": "stream",
     "text": [
      "3\n"
     ]
    }
   ],
   "source": [
    "#if 조건문 5번\n",
    "\n",
    "a = int(input(\"첫 번째 정수 : \"))\n",
    "b = int(input(\"두 번째 정수 : \"))\n",
    "c = int(input(\"세 번째 정수 : \"))\n",
    "\n",
    "if(a<b and a<c):\n",
    "  print(a)\n",
    "elif(b<a and b<c):\n",
    "  print(b)\n",
    "else:\n",
    "  print(c)"
   ]
  },
  {
   "cell_type": "code",
   "execution_count": 2,
   "id": "291aa497",
   "metadata": {},
   "outputs": [
    {
     "name": "stdout",
     "output_type": "stream",
     "text": [
      "상대는 바위 를 냈습니다.\n",
      "당신은 보 를 냈습니다.\n",
      "이겼음\n"
     ]
    }
   ],
   "source": [
    "#if 조건문 6번\n",
    "\n",
    "import random\n",
    "\n",
    "a = [\"가위\",\"바위\",\"보\"]\n",
    "c = random.randint(1,3)\n",
    "b = a[c]\n",
    "c = input(\"가위 바위 보 중 하나를 선택하세요 : \")\n",
    "\n",
    "print(\"상대는\", b,\"를 냈습니다.\")\n",
    "print(\"당신은\", c,\"를 냈습니다.\")\n",
    "\n",
    "if (c == \"가위\" and b == \"보\") or (c == \"바위\" and b == \"가위\") or (c == \"보\" and b == \"바위\"):\n",
    "  print(\"이겼음\")\n",
    "elif (c == \"가위\" and b == \"가위\") or (c == \"바위\" and b == \"바위\") or (c == \"보\" and b == \"보\"):\n",
    "  print(\"비겼음\")\n",
    "else:\n",
    "  print(\"졌음\")"
   ]
  },
  {
   "cell_type": "code",
   "execution_count": 1,
   "id": "d5811927",
   "metadata": {},
   "outputs": [
    {
     "name": "stdout",
     "output_type": "stream",
     "text": [
      "입장 가능\n"
     ]
    }
   ],
   "source": [
    "#if 조건문 7번\n",
    "\n",
    "tall = int(input(\"키 : \"))\n",
    "age = int(input(\"나이 : \"))\n",
    "\n",
    "if (tall>= 140 and age >= 10):\n",
    "  print(\"입장 가능\")\n",
    "else:\n",
    "  print(\"입장 불가능\")\n"
   ]
  },
  {
   "cell_type": "code",
   "execution_count": 7,
   "id": "7f7a4aad",
   "metadata": {},
   "outputs": [
    {
     "ename": "ValueError",
     "evalue": "invalid literal for int() with base 10: '80,170'",
     "output_type": "error",
     "traceback": [
      "\u001b[31m---------------------------------------------------------------------------\u001b[39m",
      "\u001b[31mValueError\u001b[39m                                Traceback (most recent call last)",
      "\u001b[36mCell\u001b[39m\u001b[36m \u001b[39m\u001b[32mIn[7]\u001b[39m\u001b[32m, line 3\u001b[39m\n\u001b[32m      1\u001b[39m \u001b[38;5;66;03m#if 조건문 8번\u001b[39;00m\n\u001b[32m----> \u001b[39m\u001b[32m3\u001b[39m weight,height = \u001b[38;5;28;43mint\u001b[39;49m\u001b[43m(\u001b[49m\u001b[38;5;28;43minput\u001b[39;49m\u001b[43m(\u001b[49m\u001b[33;43m\"\u001b[39;49m\u001b[33;43m체중과 키 : \u001b[39;49m\u001b[33;43m\"\u001b[39;49m\u001b[43m)\u001b[49m\u001b[43m)\u001b[49m\n\u001b[32m      4\u001b[39m std = (height - \u001b[32m100\u001b[39m)*(\u001b[32m0.9\u001b[39m)\n\u001b[32m      6\u001b[39m \u001b[38;5;28;01mif\u001b[39;00m weight>std:\n",
      "\u001b[31mValueError\u001b[39m: invalid literal for int() with base 10: '80,170'"
     ]
    }
   ],
   "source": [
    "#if 조건문 8번\n",
    "\n",
    "weight,height = int(input(\"체중과 키 : \"))\n",
    "std = (height - 100)*(0.9)\n",
    "\n",
    "if weight>std:\n",
    "  print(\"과체중\")\n",
    "elif weight==std:\n",
    "  print(\"표준 체중\")\n",
    "else:\n",
    "  print(\"저체중\")"
   ]
  },
  {
   "cell_type": "code",
   "execution_count": 14,
   "id": "06a8fba5",
   "metadata": {},
   "outputs": [
    {
     "name": "stdout",
     "output_type": "stream",
     "text": [
      "덧셈\n"
     ]
    },
    {
     "ename": "ValueError",
     "evalue": "invalid literal for int() with base 10: ''",
     "output_type": "error",
     "traceback": [
      "\u001b[31m---------------------------------------------------------------------------\u001b[39m",
      "\u001b[31mValueError\u001b[39m                                Traceback (most recent call last)",
      "\u001b[36mCell\u001b[39m\u001b[36m \u001b[39m\u001b[32mIn[14]\u001b[39m\u001b[32m, line 11\u001b[39m\n\u001b[32m      9\u001b[39m \u001b[38;5;28;01mif\u001b[39;00m a==\u001b[32m1\u001b[39m:\n\u001b[32m     10\u001b[39m   \u001b[38;5;28mprint\u001b[39m(\u001b[33m\"\u001b[39m\u001b[33m덧셈\u001b[39m\u001b[33m\"\u001b[39m)\n\u001b[32m---> \u001b[39m\u001b[32m11\u001b[39m   d = \u001b[38;5;28;43mint\u001b[39;49m\u001b[43m(\u001b[49m\u001b[38;5;28;43minput\u001b[39;49m\u001b[43m(\u001b[49m\u001b[33;43m\"\u001b[39;49m\u001b[38;5;132;43;01m%d\u001b[39;49;00m\u001b[33;43m + \u001b[39;49m\u001b[38;5;132;43;01m%d\u001b[39;49;00m\u001b[33;43m 의 값 : \u001b[39;49m\u001b[33;43m\"\u001b[39;49m\u001b[43m%\u001b[49m\u001b[43m \u001b[49m\u001b[43m(\u001b[49m\u001b[43mb\u001b[49m\u001b[43m \u001b[49m\u001b[43m,\u001b[49m\u001b[43m \u001b[49m\u001b[43mc\u001b[49m\u001b[43m)\u001b[49m\u001b[43m)\u001b[49m\u001b[43m)\u001b[49m\n\u001b[32m     12\u001b[39m   e = b + c\n\u001b[32m     13\u001b[39m   \u001b[38;5;28;01mif\u001b[39;00m e == d:\n",
      "\u001b[31mValueError\u001b[39m: invalid literal for int() with base 10: ''"
     ]
    }
   ],
   "source": [
    "#if 조건문 9번\n",
    "\n",
    "import random\n",
    "\n",
    "a = random.randint(1,4)\n",
    "b = random.randint(1,9)\n",
    "c = random.randint(1,9)\n",
    "\n",
    "if a==1:\n",
    "  print(\"덧셈\")\n",
    "  d = int(input(\"%d + %d 의 값 : \"% (b , c)))\n",
    "  e = b + c\n",
    "  if e == d:\n",
    "    print(\"정답입니다.\")\n",
    "  else:\n",
    "    print(\"오답입니다.\")\n",
    "    \n",
    "elif a==2:\n",
    "  print(\"뺄셈\")\n",
    "  d = int(input (\"%d - %d 의 값 : \"% (b , c)))\n",
    "  e = b - c\n",
    "  if e == d:\n",
    "    print(\"정답입니다.\")\n",
    "  else:\n",
    "    print(\"오답입니다.\")\n",
    "    \n",
    "elif a==3:\n",
    "  print(\"곱셈\")\n",
    "  d = int(input(\"%d x %d 의 값 : \"% (b , c) ))\n",
    "  e = b * c\n",
    "  if e == d:\n",
    "    print(\"정답입니다.\")\n",
    "  else:\n",
    "    print(\"오답입니다.\")\n",
    "    \n",
    "else:\n",
    "  print(\"나눗셈\")\n",
    "  d = float(input(\"%d / %d 의 값 : \"% (b , c) ))\n",
    "  e = b / c\n",
    "  f = round(e,1) #소숫점 첫 번쨰 자리까지만.\n",
    "  if f == d:\n",
    "    print(\"정답입니다.\")\n",
    "  else:\n",
    "    print(\"오답입니다.\")\n"
   ]
  }
 ],
 "metadata": {
  "kernelspec": {
   "display_name": "Python 3",
   "language": "python",
   "name": "python3"
  },
  "language_info": {
   "codemirror_mode": {
    "name": "ipython",
    "version": 3
   },
   "file_extension": ".py",
   "mimetype": "text/x-python",
   "name": "python",
   "nbconvert_exporter": "python",
   "pygments_lexer": "ipython3",
   "version": "3.12.5"
  }
 },
 "nbformat": 4,
 "nbformat_minor": 5
}
