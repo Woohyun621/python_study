{
 "cells": [
  {
   "cell_type": "code",
   "execution_count": null,
   "id": "531d2df6",
   "metadata": {},
   "outputs": [
    {
     "name": "stdout",
     "output_type": "stream",
     "text": [
      "2 4 6 8 10 12 14 16 18 20 22 24 26 28 30 32 34 36 38 40 42 44 46 48 "
     ]
    }
   ],
   "source": [
    "#for/while 반복문 1번\n",
    "\n",
    "for x in range(2,50):\n",
    "  if x % 2==0:\n",
    "    print(x,end=\" \")"
   ]
  },
  {
   "cell_type": "code",
   "execution_count": null,
   "id": "33750f77",
   "metadata": {},
   "outputs": [
    {
     "name": "stdout",
     "output_type": "stream",
     "text": [
      "56\n"
     ]
    }
   ],
   "source": [
    "#for/while 반복문 2번\n",
    "\n",
    "myList = [11,22,23,99,81,93,35]\n",
    "y=0\n",
    "\n",
    "for x in range(len(myList)):\n",
    "  y = myList[x] + y  \n",
    "print(y)"
   ]
  },
  {
   "cell_type": "code",
   "execution_count": 8,
   "id": "cded3142",
   "metadata": {},
   "outputs": [
    {
     "name": "stdout",
     "output_type": "stream",
     "text": [
      "2047\n"
     ]
    }
   ],
   "source": [
    "#for/while 반복문 3번\n",
    "\n",
    "for x in range(1,100):\n",
    "  if x%3==0 :\n",
    "    y = x + y\n",
    "print(y)"
   ]
  },
  {
   "cell_type": "code",
   "execution_count": null,
   "id": "fe653608",
   "metadata": {},
   "outputs": [],
   "source": [
    "#for/while 반복문 4번\n",
    "\n",
    "x = int(input(\"정수 입력 : \"))\n",
    "\n"
   ]
  },
  {
   "cell_type": "code",
   "execution_count": 18,
   "id": "af407d38",
   "metadata": {},
   "outputs": [
    {
     "name": "stdout",
     "output_type": "stream",
     "text": [
      "\n",
      "* \n",
      "* * \n",
      "* * * \n",
      "* * * * \n",
      "* * * * * \n"
     ]
    }
   ],
   "source": [
    "#for/while 반복문 5번\n",
    "\n",
    "x = int(input(\"정수 입력 : \"))\n",
    "\n",
    "for y in range(x+1):\n",
    "  for z in range(y):\n",
    "    print(\"*\", end=\" \")\n",
    "  print()"
   ]
  }
 ],
 "metadata": {
  "kernelspec": {
   "display_name": "aaa111",
   "language": "python",
   "name": "python3"
  },
  "language_info": {
   "codemirror_mode": {
    "name": "ipython",
    "version": 3
   },
   "file_extension": ".py",
   "mimetype": "text/x-python",
   "name": "python",
   "nbconvert_exporter": "python",
   "pygments_lexer": "ipython3",
   "version": "3.12.7"
  }
 },
 "nbformat": 4,
 "nbformat_minor": 5
}
