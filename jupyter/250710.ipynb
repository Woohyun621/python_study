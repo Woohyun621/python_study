{
 "cells": [
  {
   "cell_type": "code",
   "execution_count": 4,
   "id": "531d2df6",
   "metadata": {},
   "outputs": [
    {
     "name": "stdout",
     "output_type": "stream",
     "text": [
      "2 4 6 8 10 12 14 16 18 20 22 24 26 28 30 32 34 36 38 40 42 44 46 48 50 "
     ]
    }
   ],
   "source": [
    "#for/while 반복문 1번\n",
    "\n",
    "for x in range(2,51):\n",
    "  if x % 2==0:\n",
    "    print(x,end=\" \")"
   ]
  },
  {
   "cell_type": "code",
   "execution_count": null,
   "id": "33750f77",
   "metadata": {},
   "outputs": [
    {
     "name": "stdout",
     "output_type": "stream",
     "text": [
      "56\n"
     ]
    }
   ],
   "source": [
    "#for/while 반복문 2번\n",
    "\n",
    "myList = [11,22,23,99,81,93,35]\n",
    "y=0\n",
    "\n",
    "for x in range(len(myList)):\n",
    "  y = myList[x] + y  \n",
    "print(y)"
   ]
  },
  {
   "cell_type": "code",
   "execution_count": 6,
   "id": "cded3142",
   "metadata": {},
   "outputs": [
    {
     "name": "stdout",
     "output_type": "stream",
     "text": [
      "1부터 100까지 3의 배수의 합은 : 1683입니다.\n"
     ]
    }
   ],
   "source": [
    "#for/while 반복문 3번\n",
    "\n",
    "y=0\n",
    "\n",
    "for x in range(1,101):\n",
    "  if x%3==0 :\n",
    "    y += x\n",
    "print(f\"1부터 100까지 3의 배수의 합은 : {y}입니다.\")"
   ]
  },
  {
   "cell_type": "code",
   "execution_count": 8,
   "id": "fe653608",
   "metadata": {},
   "outputs": [
    {
     "name": "stdout",
     "output_type": "stream",
     "text": [
      "1 5 "
     ]
    }
   ],
   "source": [
    "#for/while 반복문 4번\n",
    "\n",
    "x = int(input(\"정수를 입력하시오:\"))\n",
    "\n",
    "for i in range(1,x+1):\n",
    "  if x%i==0:\n",
    "    print(i,end=\" \")\n"
   ]
  },
  {
   "cell_type": "code",
   "execution_count": 10,
   "id": "af407d38",
   "metadata": {},
   "outputs": [
    {
     "name": "stdout",
     "output_type": "stream",
     "text": [
      "\n",
      "* \n",
      "* * \n",
      "* * * \n",
      "* * * * \n",
      "* * * * * \n"
     ]
    }
   ],
   "source": [
    "#for/while 반복문 5번\n",
    "\n",
    "x = int(input(\"정수 입력 : \"))\n",
    "\n",
    "for y in range(x+1):\n",
    "  for z in range(y):\n",
    "    print(\"*\", end=\" \")\n",
    "  print()"
   ]
  },
  {
   "cell_type": "code",
   "execution_count": 13,
   "id": "19b85e9a",
   "metadata": {},
   "outputs": [
    {
     "name": "stdout",
     "output_type": "stream",
     "text": [
      "23\n"
     ]
    }
   ],
   "source": [
    "#for/while 반복문 8번\n",
    "\n",
    "x=0\n",
    "\n",
    "while x<500:\n",
    "  if (x**2)>500:\n",
    "    print(x)\n",
    "    break\n",
    "  x+=1"
   ]
  },
  {
   "cell_type": "code",
   "execution_count": 3,
   "id": "05f44a83",
   "metadata": {},
   "outputs": [
    {
     "name": "stdout",
     "output_type": "stream",
     "text": [
      "값 : 14\n"
     ]
    }
   ],
   "source": [
    "#for/while 반복문 10번\n",
    "\n",
    "x = int(input(\"정수 입력 : \"))\n",
    "z = 0\n",
    "\n",
    "for y in range(x+1):\n",
    "  z = (y*y) + z\n",
    "print(f\"값 : {z}\")"
   ]
  },
  {
   "cell_type": "code",
   "execution_count": 17,
   "id": "370ef266",
   "metadata": {},
   "outputs": [
    {
     "name": "stdout",
     "output_type": "stream",
     "text": [
      "4와 2의 최대 공약수는 2입니다.\n"
     ]
    }
   ],
   "source": [
    "#for/while 반복문 11번\n",
    "\n",
    "a = int(input(\"1번째 정수 입력 : \"))\n",
    "b = int(input(\"2번째 정수 입력 : \"))\n",
    "\n",
    "c = 0\n",
    "max = a\n",
    "\n",
    "if a<b:\n",
    "  max = b\n",
    "else:\n",
    "  max = a\n",
    "  \n",
    "for i in range(1,max):\n",
    "  if a%i==0 and b%i==0:\n",
    "    c = i\n",
    "\n",
    "print(f\"{a}와 {b}의 최대 공약수는 {c}입니다.\")"
   ]
  },
  {
   "cell_type": "code",
   "execution_count": null,
   "id": "b4d02831",
   "metadata": {},
   "outputs": [
    {
     "name": "stdout",
     "output_type": "stream",
     "text": [
      "0,1,1,2,3,5\n"
     ]
    }
   ],
   "source": [
    "#for/while 반복문 13번\n",
    "\n",
    "num = int(input(\"몇 번째 항까지 구할까요? : \"))\n",
    "e1=0\n",
    "e2=0\n",
    "\n",
    "for i in range(num+1):\n",
    "  if i<2:\n",
    "    e2=e1\n",
    "    e1=i\n",
    "    sum=e1+e2\n",
    "  else:\n",
    "    sum=e1+e2\n",
    "    e2=e1\n",
    "    e1=sum\n",
    "  \n",
    "  if i!=num:\n",
    "    print(sum,end=\",\")\n",
    "  else:\n",
    "     print(sum)"
   ]
  },
  {
   "cell_type": "code",
   "execution_count": 20,
   "id": "1ff38d4d",
   "metadata": {},
   "outputs": [
    {
     "name": "stdout",
     "output_type": "stream",
     "text": [
      "2 3 5 7 11 13 17 19 "
     ]
    }
   ],
   "source": [
    "#for/while 반복문 14번\n",
    "\n",
    "maxnum = 20\n",
    "number = 2\n",
    "\n",
    "while number<maxnum:\n",
    "  divisor=2\n",
    "  prime=True\n",
    "  \n",
    "  while divisor<number:\n",
    "    if number%divisor==0:\n",
    "      prime=False\n",
    "      break\n",
    "    divisor+=1\n",
    "  if prime:\n",
    "    print(number,end=\" \")\n",
    "  number+=1"
   ]
  },
  {
   "cell_type": "code",
   "execution_count": 25,
   "id": "abcb2a1c",
   "metadata": {},
   "outputs": [
    {
     "name": "stdout",
     "output_type": "stream",
     "text": [
      "4869.189596434787\n"
     ]
    }
   ],
   "source": [
    "#for/while 반복문 15번\n",
    "\n",
    "sum = 0\n",
    "\n",
    "for i in range(1,100,2):\n",
    "  for j in range(3,102,2):\n",
    "    k = i/j\n",
    "    sum += k\n",
    "print(sum)"
   ]
  },
  {
   "cell_type": "code",
   "execution_count": 21,
   "id": "c680e2ce",
   "metadata": {},
   "outputs": [
    {
     "name": "stdout",
     "output_type": "stream",
     "text": [
      "fizzbuzz\n",
      "*\n",
      "*\n",
      "fizz\n",
      "*\n",
      "buzz\n",
      "fizz\n",
      "*\n",
      "*\n",
      "fizz\n"
     ]
    }
   ],
   "source": [
    "#for/while 반복문 17번\n",
    "\n",
    "for i in range(0,10):\n",
    "  if i%3==0 and i%5==0:\n",
    "    print(\"fizzbuzz\")\n",
    "  elif i%5==0:\n",
    "    print(\"buzz\")\n",
    "  elif i%3==0:\n",
    "    print(\"fizz\")\n",
    "  else:\n",
    "    print(\"*\")\n"
   ]
  },
  {
   "cell_type": "code",
   "execution_count": 32,
   "id": "30034ed3",
   "metadata": {},
   "outputs": [
    {
     "name": "stdout",
     "output_type": "stream",
     "text": [
      "Point(x=26, y=1069)\n"
     ]
    }
   ],
   "source": [
    "import pyautogui as pag\n",
    "import time\n",
    "\n",
    "time.sleep(2)\n",
    "print(pag.position())\n"
   ]
  },
  {
   "cell_type": "code",
   "execution_count": 38,
   "id": "c7b36847",
   "metadata": {},
   "outputs": [],
   "source": [
    "pag.moveTo(26,1069, duration=0.1)\n",
    "pag.click()"
   ]
  },
  {
   "cell_type": "code",
   "execution_count": 41,
   "id": "af42599e",
   "metadata": {},
   "outputs": [
    {
     "name": "stdout",
     "output_type": "stream",
     "text": [
      "안녕, 철수\n",
      "<function say_hello at 0x0000010EE20AD760>\n"
     ]
    }
   ],
   "source": [
    "def say_hello(name):\n",
    "  print(\"안녕,\",name)\n",
    "\n",
    "say_hello(\"철수\")\n",
    "print(say_hello)"
   ]
  },
  {
   "cell_type": "code",
   "execution_count": 42,
   "id": "78c16000",
   "metadata": {},
   "outputs": [
    {
     "name": "stdout",
     "output_type": "stream",
     "text": [
      "55\n"
     ]
    }
   ],
   "source": [
    "def get_sum(start,end):\n",
    "  sum=0\n",
    "  for i in range(start,end+1):\n",
    "    sum += i\n",
    "  return sum\n",
    "\n",
    "value = get_sum(1,10)\n",
    "print(value)"
   ]
  },
  {
   "cell_type": "code",
   "execution_count": 71,
   "id": "a2f68252",
   "metadata": {},
   "outputs": [
    {
     "name": "stdout",
     "output_type": "stream",
     "text": [
      "31.400000000000002\n"
     ]
    }
   ],
   "source": [
    "#함수 1번\n",
    "\n",
    "def get_perl(radius):\n",
    "  radius = 5\n",
    "  perl = radius * 3.14 * 2\n",
    "  return perl\n",
    "\n",
    "a = get_perl(5)\n",
    "print(a)"
   ]
  },
  {
   "cell_type": "code",
   "execution_count": 73,
   "id": "f7b05f6f",
   "metadata": {},
   "outputs": [
    {
     "name": "stdout",
     "output_type": "stream",
     "text": [
      "첫 번째 정수 : 4\n",
      "두 번째 정수 : 5\n",
      "4 + 5 = 9\n",
      "4 + 5 = -1\n",
      "4 + 5 = 20\n",
      "4 + 5 = 0.8\n"
     ]
    }
   ],
   "source": [
    "#함수 2번\n",
    "\n",
    "def get_sum(x,y):\n",
    "  sum=0\n",
    "  sum = x + y\n",
    "  return sum\n",
    "\n",
    "def get_sub(x,y):\n",
    "  sub=0\n",
    "  sub = x - y\n",
    "  return sub\n",
    "\n",
    "def get_mul(x,y):\n",
    "  mul=0\n",
    "  mul = x * y\n",
    "  return mul\n",
    "\n",
    "def get_div(x,y):\n",
    "  div=0\n",
    "  div = x / y\n",
    "  return div\n",
    "\n",
    "x = int(input(\"첫 번째 정수 : \"))\n",
    "y = int(input(\"두 번째 정수 : \"))\n",
    "\n",
    "value_sum = get_sum(x,y)\n",
    "value_sub = get_sub(x,y)\n",
    "value_mul = get_mul(x,y)\n",
    "value_div = get_div(x,y)\n",
    "\n",
    "print(f\"첫 번째 정수 : {x}\")\n",
    "print(f\"두 번째 정수 : {y}\")\n",
    "\n",
    "print(f\"{x} + {y} = {value_sum}\")\n",
    "print(f\"{x} + {y} = {value_sub}\")\n",
    "print(f\"{x} + {y} = {value_mul}\")\n",
    "print(f\"{x} + {y} = {value_div}\")"
   ]
  },
  {
   "cell_type": "code",
   "execution_count": 74,
   "id": "a293daf5",
   "metadata": {},
   "outputs": [
    {
     "name": "stdout",
     "output_type": "stream",
     "text": [
      "9,-1,20,0.8\n"
     ]
    }
   ],
   "source": [
    "#함수 3번\n",
    "\n",
    "def get_sum(x,y):\n",
    "  sum=0\n",
    "  sum = x + y\n",
    "  return sum\n",
    "\n",
    "def get_sub(x,y):\n",
    "  sub=0\n",
    "  sub = x - y\n",
    "  return sub\n",
    "\n",
    "def get_mul(x,y):\n",
    "  mul=0\n",
    "  mul = x * y\n",
    "  return mul\n",
    "\n",
    "def get_div(x,y):\n",
    "  div=0\n",
    "  div = x / y\n",
    "  return div\n",
    "\n",
    "def calc(x,y):\n",
    "  result_a = get_sum(x,y)\n",
    "  result_b = get_sub(x,y)\n",
    "  result_c = get_mul(x,y)\n",
    "  result_d = get_div(x,y)\n",
    "  print(f\"{result_a},{result_b},{result_c},{result_d}\")\n",
    "  \n",
    "x = int(input(\"첫 번째 정수 : \"))\n",
    "y = int(input(\"두 번째 정수 : \"))\n",
    "\n",
    "calc(x,y)\n",
    "  "
   ]
  },
  {
   "cell_type": "code",
   "execution_count": 77,
   "id": "b7ff19ca",
   "metadata": {},
   "outputs": [
    {
     "name": "stdout",
     "output_type": "stream",
     "text": [
      "당신의 성적은 87점이며 B입니다.\n"
     ]
    }
   ],
   "source": [
    "#함수 4번\n",
    "\n",
    "def getGrade(score):\n",
    "  if score>=90:\n",
    "    grade = \"A\" \n",
    "  elif score>=80:\n",
    "    grade = \"B\"\n",
    "  elif score>=70:\n",
    "    grade = \"C\"\n",
    "  elif score>=60: \n",
    "    grade = \"D\" \n",
    "  else:\n",
    "    grade = \"F\"\n",
    "  return grade\n",
    "\n",
    "score = int(input(\"성적을 입력하시오 : \"))\n",
    "\n",
    "print(f\"당신의 성적은 {score}점이며 {getGrade(score)}입니다.\")"
   ]
  },
  {
   "cell_type": "code",
   "execution_count": null,
   "id": "adc719b3",
   "metadata": {},
   "outputs": [],
   "source": [
    "#함수 5번\n",
    "\n",
    "def checkPass(p):\n",
    "  length=False\n",
    "  upper=False\n",
    "  lower=False\n",
    "  digit=False\n",
    "  \n",
    "  if len(p)>=8 :\n",
    "    length=True\n",
    "    \n",
    "  for i in p:\n",
    "    if i.isupper():\n",
    "      upper=True\n",
    "    elif i.islower():\n",
    "      lower=True\n",
    "    elif i.isdigit():\n",
    "      digit=True\n",
    "      \n",
    "  passList=List(p)\n",
    "  cntLow=0\n",
    "  cntUp=0\n",
    "  cntDig=0\n",
    "  \n",
    "  if len(passList)>=8:\n",
    "    "
   ]
  },
  {
   "cell_type": "code",
   "execution_count": 86,
   "id": "8cc6b5cb",
   "metadata": {},
   "outputs": [
    {
     "name": "stdout",
     "output_type": "stream",
     "text": [
      "[1, 2, 3, 4, 5, 6, 7, 8, 9, 10]\n",
      "[1, 2, 3, 4, 5]\n",
      "[6, 7, 8, 9, 10]\n",
      "[1, 2, 3, 4, 5]\n",
      "10\n"
     ]
    }
   ],
   "source": [
    "scores = [1,2,3,4,5,6,7,8,9,10]\n",
    "print(scores)\n",
    "print(scores[0:5])\n",
    "print(scores[5:])\n",
    "print(scores[:5])\n",
    "print(scores[-1])\n"
   ]
  },
  {
   "cell_type": "code",
   "execution_count": 90,
   "id": "0afb92df",
   "metadata": {},
   "outputs": [
    {
     "name": "stdout",
     "output_type": "stream",
     "text": [
      "[50, 40, 30, 20, 10, 70, 80, 90, 60, 50]\n"
     ]
    }
   ],
   "source": [
    "scores = []\n",
    "for i in range(10):\n",
    "  scores.append(int(input()))\n",
    "print(scores)"
   ]
  },
  {
   "cell_type": "code",
   "execution_count": 93,
   "id": "ff72f107",
   "metadata": {},
   "outputs": [],
   "source": [
    "list1 = list()\n",
    "list2 = list(\"Hello\")\n",
    "list3 = list(range(0,5))"
   ]
  },
  {
   "cell_type": "code",
   "execution_count": 95,
   "id": "09327701",
   "metadata": {},
   "outputs": [
    {
     "name": "stdout",
     "output_type": "stream",
     "text": [
      "[10, 20, 30, 40, 50]\n",
      "[10, 20, 99, 40, 50]\n"
     ]
    }
   ],
   "source": [
    "scores = [10,20,30,40,50]\n",
    "values = scores[:]\n",
    "values[2]=99\n",
    "\n",
    "print(scores)\n",
    "print(values)"
   ]
  },
  {
   "cell_type": "code",
   "execution_count": null,
   "id": "c9b21e1d",
   "metadata": {},
   "outputs": [
    {
     "name": "stdout",
     "output_type": "stream",
     "text": [
      "소고기김밥\n",
      "0.25484823784490873\n",
      "2\n"
     ]
    }
   ],
   "source": [
    "import random\n",
    "\n",
    "list1 = [\"참치김밥\",\"땡초김밥\",\"돈가스김밥\",\"새우김밥\",\"계란김밥\",\"멸치김밥\",\"다시마김밥\",\"소고기김밥\",\"김치김밥\",\"치즈김밥\"]\n",
    "\n",
    "print(random.choice(list1))\n",
    "print(random.random())\n",
    "print(random.randrange(1,3))\n"
   ]
  },
  {
   "cell_type": "code",
   "execution_count": null,
   "id": "d9f6c5ac",
   "metadata": {},
   "outputs": [
    {
     "name": "stdout",
     "output_type": "stream",
     "text": [
      "타자 속도 테스트입니다.\n",
      "선택된 문장 : 멸치김밥\n",
      "적은 문장 : 멸치김밥\n",
      "정확도 : 100.0%\n",
      "걸린 시간 : 297.1467135260203\n"
     ]
    }
   ],
   "source": [
    "import time\n",
    "import random\n",
    "\n",
    "print(\"타자 속도 테스트입니다.\")\n",
    "input(\"아무 타자를 누르면 문장이 나옵니다...\")\n",
    "\n",
    "time_start = time.time()\n",
    "\n",
    "list1 = [\"참치김밥\",\"땡초김밥\",\"돈가스김밥\",\"새우김밥\",\"계란김밥\",\"멸치김밥\",\"소고기김밥\",\"김치김밥\",\"치즈김밥\"]\n",
    "random_list = random.choice(list1)\n",
    "print(f\"선택된 문장 : {random_list}\")\n",
    "\n",
    "typed = input(f\"\\n {random_list} 입력: \")\n",
    "print(f\"적은 문장 : {typed}\")\n",
    "\n",
    "time_end = time.time()\n",
    "elapsed = time_end - time_start\n",
    "\n",
    "correct = 0\n",
    "for i in range(min(len(random_list), len(typed))):\n",
    "  if random_list[i] == typed[i] :\n",
    "    correct += 1\n",
    "  \n",
    "accuracy = correct / len(random_list)\n",
    "speed = len(list1) / elapsed * 60  #분당 타자 수(CPM)\n",
    "\n",
    "print(f\"정확도 : {accuracy*100}%\")\n",
    "print(f\"걸린 시간 : {speed}\")"
   ]
  }
 ],
 "metadata": {
  "kernelspec": {
   "display_name": "aaa111",
   "language": "python",
   "name": "python3"
  },
  "language_info": {
   "codemirror_mode": {
    "name": "ipython",
    "version": 3
   },
   "file_extension": ".py",
   "mimetype": "text/x-python",
   "name": "python",
   "nbconvert_exporter": "python",
   "pygments_lexer": "ipython3",
   "version": "3.12.7"
  }
 },
 "nbformat": 4,
 "nbformat_minor": 5
}
