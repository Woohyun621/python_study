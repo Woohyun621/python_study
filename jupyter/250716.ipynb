{
 "cells": [
  {
   "cell_type": "code",
   "execution_count": null,
   "id": "66f37c92",
   "metadata": {},
   "outputs": [
    {
     "name": "stdout",
     "output_type": "stream",
     "text": [
      "시험 출력이다.\n"
     ]
    }
   ],
   "source": [
    "class Car :\n",
    "  color = \" \"\n",
    "  speed = 0\n",
    "  count = 0\n",
    "  \n",
    "  def __init__(self,color,speed):\n",
    "    self.color = color\n",
    "    self.speed = speed\n",
    "  def upSpeed(self,value):\n",
    "    self.speed += value\n",
    "    \n",
    "  def downSpeed(self,value):\n",
    "    self.speed -= value\n",
    "  \n",
    "  def printMessage(self):\n",
    "    print(f\"{self.color} {self.speed} {Car.count}\")\n",
    "    \n",
    "myCar1 = Car(\"빨강\",50)\n",
    "myCar2 = Car(\"노랑\",30)\n",
    "myCar3 = Car(\"파랑\",40)\n",
    "\n",
    "myCar3.printMessage()\n",
    "\n"
   ]
  },
  {
   "cell_type": "code",
   "execution_count": 4,
   "id": "d0837fc4",
   "metadata": {},
   "outputs": [
    {
     "name": "stdout",
     "output_type": "stream",
     "text": [
      "원의 반지름 :  10\n",
      "원의 넓이 :  314.16\n",
      "원의 둘레 :  62.83\n"
     ]
    }
   ],
   "source": [
    "import math\n",
    "class Circle:\n",
    "  __radius = 0\n",
    "  \n",
    "  def __init__(self,radius):\n",
    "    self.__radius= radius\n",
    "  \n",
    "  def getRadius(self):\n",
    "    return self.__radius\n",
    "  def setRadius(self, radius):\n",
    "    self.__radius = radius\n",
    "  \n",
    "  def calcArea(self):\n",
    "    area = math.pi * self.__radius * self.__radius\n",
    "    return area\n",
    "  \n",
    "  def calcCircum(self):\n",
    "    value = 2 * math.pi * self.__radius\n",
    "    return value\n",
    "  \n",
    "if __name__ == \"__main__\":\n",
    "  circle = Circle(10)\n",
    "  print(\"원의 반지름 : \", circle.getRadius())\n",
    "  print(\"원의 넓이 : \", round(circle.calcArea(),2))\n",
    "  print(\"원의 둘레 : \", round(circle.calcCircum(),2))"
   ]
  },
  {
   "cell_type": "code",
   "execution_count": 22,
   "id": "2963d1c3",
   "metadata": {},
   "outputs": [
    {
     "name": "stdout",
     "output_type": "stream",
     "text": [
      "kind :  다이아몬드\n",
      "number :  10\n",
      "width :  100\n",
      "height :  250\n",
      "kind :  스페이드\n",
      "number :  11\n",
      "width :  100\n",
      "height :  250\n"
     ]
    }
   ],
   "source": [
    "class Card:\n",
    "  kind = \"\"\n",
    "  number = 0\n",
    "  width = 100\n",
    "  height = 250\n",
    "  \n",
    "  def __init__(self,kind,number):\n",
    "    self.kind = kind\n",
    "    self.number = number\n",
    "    \n",
    "  def __str__(self):\n",
    "    print(\"kind : \", self.kind)\n",
    "    print(\"number : \", self.number)\n",
    "    print(\"width : \", Card.width)\n",
    "    print(\"height : \", Card.height)\n",
    "    \n",
    "if __name__ == \"__main__\":\n",
    "  card1 = Card(\"다이아몬드\", 10 )\n",
    "  card1.__str__()\n",
    "  \n",
    "  card2 = Card(\"스페이드\", 11)\n",
    "  card2.__str__()"
   ]
  }
 ],
 "metadata": {
  "kernelspec": {
   "display_name": "Python 3",
   "language": "python",
   "name": "python3"
  },
  "language_info": {
   "codemirror_mode": {
    "name": "ipython",
    "version": 3
   },
   "file_extension": ".py",
   "mimetype": "text/x-python",
   "name": "python",
   "nbconvert_exporter": "python",
   "pygments_lexer": "ipython3",
   "version": "3.13.5"
  }
 },
 "nbformat": 4,
 "nbformat_minor": 5
}
