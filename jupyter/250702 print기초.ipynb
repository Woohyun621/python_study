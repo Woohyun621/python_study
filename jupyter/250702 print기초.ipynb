{
 "cells": [
  {
   "cell_type": "code",
   "execution_count": 11,
   "id": "35fe3d05",
   "metadata": {},
   "outputs": [
    {
     "name": "stdout",
     "output_type": "stream",
     "text": [
      "안녕하세요\n",
      "'안녕하세요'\n"
     ]
    }
   ],
   "source": [
    "print(\"안녕하세요\")\n",
    "print(\"'안녕하세요'\")"
   ]
  },
  {
   "cell_type": "code",
   "execution_count": 10,
   "id": "3c15489a",
   "metadata": {},
   "outputs": [
    {
     "name": "stdout",
     "output_type": "stream",
     "text": [
      "10 20 30\n"
     ]
    }
   ],
   "source": [
    "a = 10\n",
    "b = 20\n",
    "c = 30\n",
    "print(a,b,c)"
   ]
  },
  {
   "cell_type": "code",
   "execution_count": 15,
   "id": "3ad64277",
   "metadata": {},
   "outputs": [
    {
     "name": "stdout",
     "output_type": "stream",
     "text": [
      "4.140000000000001\n"
     ]
    }
   ],
   "source": [
    "pi = 3.14\n",
    "a = 1\n",
    "print(pi+a)\n"
   ]
  },
  {
   "cell_type": "code",
   "execution_count": 17,
   "id": "eb1da43b",
   "metadata": {},
   "outputs": [
    {
     "name": "stdout",
     "output_type": "stream",
     "text": [
      "<class 'str'>\n"
     ]
    }
   ],
   "source": [
    "print(str)"
   ]
  },
  {
   "cell_type": "code",
   "execution_count": 19,
   "id": "253a45c4",
   "metadata": {},
   "outputs": [
    {
     "ename": "SyntaxError",
     "evalue": "cannot assign to literal here. Maybe you meant '==' instead of '='? (1793823332.py, line 2)",
     "output_type": "error",
     "traceback": [
      "  \u001b[36mCell\u001b[39m\u001b[36m \u001b[39m\u001b[32mIn[19]\u001b[39m\u001b[32m, line 2\u001b[39m\n\u001b[31m    \u001b[39m\u001b[31m1 = x\u001b[39m\n    ^\n\u001b[31mSyntaxError\u001b[39m\u001b[31m:\u001b[39m cannot assign to literal here. Maybe you meant '==' instead of '='?\n"
     ]
    }
   ],
   "source": [
    "x = 1\n",
    "1 = x"
   ]
  },
  {
   "cell_type": "code",
   "execution_count": 22,
   "id": "ba22927a",
   "metadata": {},
   "outputs": [
    {
     "name": "stdout",
     "output_type": "stream",
     "text": [
      "현재의 세율은 35.0 %입니다\n"
     ]
    }
   ],
   "source": [
    "TAX_RATE = 0.35\n",
    "PI = 3.141592\n",
    "MAX_SIZE = 100\n",
    "\n",
    "tax = 1000 * TAX_RATE\n",
    "income = 1000 - tax \n",
    "print(\"현재의 세율은\", TAX_RATE*100, \"%입니다\")"
   ]
  },
  {
   "cell_type": "code",
   "execution_count": 24,
   "id": "7d4716cf",
   "metadata": {},
   "outputs": [
    {
     "name": "stdout",
     "output_type": "stream",
     "text": [
      "200\n"
     ]
    }
   ],
   "source": [
    "#사각형의 가로 길이\n",
    "width = 10\n",
    "#사각형의 세로 길이\n",
    "height = 20\n",
    "#사각형의 면적 계산\n",
    "area = width * height\n",
    "print(area)"
   ]
  }
 ],
 "metadata": {
  "kernelspec": {
   "display_name": ".venv",
   "language": "python",
   "name": "python3"
  },
  "language_info": {
   "codemirror_mode": {
    "name": "ipython",
    "version": 3
   },
   "file_extension": ".py",
   "mimetype": "text/x-python",
   "name": "python",
   "nbconvert_exporter": "python",
   "pygments_lexer": "ipython3",
   "version": "3.12.5"
  }
 },
 "nbformat": 4,
 "nbformat_minor": 5
}
