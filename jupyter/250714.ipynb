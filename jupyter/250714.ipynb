{
 "cells": [
  {
   "cell_type": "code",
   "execution_count": 11,
   "id": "9fa699c6",
   "metadata": {},
   "outputs": [
    {
     "name": "stdout",
     "output_type": "stream",
     "text": [
      "4월 1일입니다.\n"
     ]
    }
   ],
   "source": [
    "#함수 7번\n",
    "\n",
    "def getIntRange(a,b,msg):\n",
    "  c = 0\n",
    "  while c < a or c > b:\n",
    "    c = int(input(msg))\n",
    "  return c\n",
    "\n",
    "\n",
    "d = getIntRange(1,12,\"월을 입력 : \")\n",
    "e = getIntRange(1,31,\"일을 입력 : \")\n",
    "\n",
    "print(f\"{d}월 {e}일입니다.\")"
   ]
  },
  {
   "cell_type": "code",
   "execution_count": null,
   "id": "e512f824",
   "metadata": {},
   "outputs": [
    {
     "name": "stdout",
     "output_type": "stream",
     "text": [
      "0\n"
     ]
    }
   ],
   "source": [
    "#함수 8번\n"
   ]
  },
  {
   "cell_type": "code",
   "execution_count": 20,
   "id": "f3adc694",
   "metadata": {},
   "outputs": [
    {
     "name": "stdout",
     "output_type": "stream",
     "text": [
      "[32, 56, 64, 72, 12, 37, 98, 77, 59, 69]\n",
      "<class 'list'>\n",
      "0 32\n",
      "1 56\n",
      "2 64\n",
      "3 72\n",
      "4 12\n",
      "5 37\n",
      "6 98\n",
      "7 77\n",
      "8 59\n",
      "9 69\n"
     ]
    }
   ],
   "source": [
    "scores = [32,56,64,72,12,37,98,77,59,69]\n",
    "\n",
    "print(scores)\n",
    "print(type(scores))\n",
    "\n",
    "for i in range (len(scores)):\n",
    "  print(i, scores[i])"
   ]
  },
  {
   "cell_type": "code",
   "execution_count": 21,
   "id": "a64fab17",
   "metadata": {},
   "outputs": [
    {
     "name": "stdout",
     "output_type": "stream",
     "text": [
      "0\n",
      "10\n",
      "20\n",
      "30\n",
      "40\n",
      "50\n",
      "60\n",
      "70\n",
      "80\n",
      "90\n"
     ]
    }
   ],
   "source": [
    "scores = [32,56,64,72,12,37,98,77,59,69]\n",
    "\n",
    "for i in range(len(scores)):\n",
    "  scores[i] = i*10\n",
    "  print(scores[i])"
   ]
  },
  {
   "cell_type": "code",
   "execution_count": 23,
   "id": "80b42fde",
   "metadata": {},
   "outputs": [
    {
     "name": "stdout",
     "output_type": "stream",
     "text": [
      "[]\n",
      "['H', 'e', 'l', 'l', 'o']\n",
      "[0, 1, 2, 3, 4]\n"
     ]
    }
   ],
   "source": [
    "list1 = list()\n",
    "list2 = list(\"Hello\")\n",
    "list3 = list(range(0,5))\n",
    "\n",
    "print(list1)\n",
    "print(list2)\n",
    "print(list3)"
   ]
  },
  {
   "cell_type": "code",
   "execution_count": 24,
   "id": "a4fb7920",
   "metadata": {},
   "outputs": [
    {
     "name": "stdout",
     "output_type": "stream",
     "text": [
      "W l r\n",
      "apple peach pear\n"
     ]
    }
   ],
   "source": [
    "text = \"Will is power\"\n",
    "print(text[0],text[3],text[-1])\n",
    "flist = [\"apple\", \"banana\", \"tomato\", \"peach\", \"pear\"]\n",
    "print(flist[0],flist[3],flist[-1])"
   ]
  },
  {
   "cell_type": "code",
   "execution_count": 31,
   "id": "5f79950f",
   "metadata": {},
   "outputs": [
    {
     "name": "stdout",
     "output_type": "stream",
     "text": [
      "[1, 2, 3, 4, 5]\n",
      "[1, 2, 3, 4, 5]\n",
      "[100, 2, 3, 4, 5]\n"
     ]
    }
   ],
   "source": [
    "a = [1,2,3,4,5]\n",
    "b=a[:]\n",
    "print(b)\n",
    "b[0] = 100\n",
    "print(a)\n",
    "print(b)"
   ]
  },
  {
   "cell_type": "code",
   "execution_count": 34,
   "id": "da5800f6",
   "metadata": {},
   "outputs": [
    {
     "name": "stdout",
     "output_type": "stream",
     "text": [
      "['두부', '양배추', '생수', '딸기']\n"
     ]
    }
   ],
   "source": [
    "shopping_list = [\"두부\",\"양배추\",\"딸기\"]\n",
    "shopping_list.insert(2,\"생수\")\n",
    "print(shopping_list)"
   ]
  },
  {
   "cell_type": "code",
   "execution_count": 41,
   "id": "981556c0",
   "metadata": {},
   "outputs": [
    {
     "name": "stdout",
     "output_type": "stream",
     "text": [
      "[1, 2, 3, 4, 5]\n",
      "[5, 4, 3, 2, 1]\n"
     ]
    }
   ],
   "source": [
    "list1 = [3,2,1,5,4]\n",
    "list2 = [3,2,1,5,4]\n",
    "list1.sort()\n",
    "list3 = sorted((list2),reverse=True)\n",
    "print(list1)\n",
    "print(list3)"
   ]
  },
  {
   "cell_type": "code",
   "execution_count": 45,
   "id": "9be4721d",
   "metadata": {},
   "outputs": [
    {
     "name": "stdout",
     "output_type": "stream",
     "text": [
      "15\n",
      "25\n",
      "35\n"
     ]
    }
   ],
   "source": [
    "#리스트 1번\n",
    "\n",
    "list1 = [10,20,30]\n",
    "sum = 0\n",
    "x = int(input(\"정수를 입력하세요 : \"))\n",
    "\n",
    "for i in range(len(list1)):\n",
    "  sum = list1[i] + x\n",
    "  print(sum)"
   ]
  },
  {
   "cell_type": "code",
   "execution_count": null,
   "id": "c4298249",
   "metadata": {},
   "outputs": [
    {
     "name": "stdout",
     "output_type": "stream",
     "text": [
      "<function list2 at 0x000002144CBC6FC0>\n"
     ]
    }
   ],
   "source": [
    "#리스트 2번\n",
    "\n",
    "import random\n",
    "list1 = []\n",
    "\n",
    "for i in range(10):\n",
    "  x = random.randrange(1,100)\n",
    "  list1.append(x)\n",
    "print(list1)\n"
   ]
  },
  {
   "cell_type": "code",
   "execution_count": 42,
   "id": "59a31904",
   "metadata": {},
   "outputs": [
    {
     "name": "stdout",
     "output_type": "stream",
     "text": [
      "20 : \n",
      "********************\n",
      "\n",
      "1 : \n",
      "*\n",
      "\n",
      "12 : \n",
      "************\n",
      "\n",
      "9 : \n",
      "*********\n",
      "\n",
      "18 : \n",
      "******************\n",
      "\n"
     ]
    }
   ],
   "source": [
    "#리스트 3번\n",
    "\n",
    "list1 = [20,1,12,9,18]\n",
    "\n",
    "for i in range(len(list1)):\n",
    "  print(f\"{list1[i]} : \")\n",
    "  z = list1[i]\n",
    "  for y in range(z):\n",
    "    print(\"*\",end=\"\")\n",
    "  print(\"\\n\")"
   ]
  },
  {
   "cell_type": "code",
   "execution_count": 67,
   "id": "e922d280",
   "metadata": {},
   "outputs": [
    {
     "name": "stdout",
     "output_type": "stream",
     "text": [
      "실행 전 [1, 2, 3, 4, 5, 6, 7, 8, 9, 10]\n",
      "실행 후 [1, 2, -3, -4, -5, -6, -7, -8, 9, 10]\n"
     ]
    }
   ],
   "source": [
    "#리스트 4번\n",
    "\n",
    "def minuslist(x):\n",
    "  print(\"실행 전\",x)\n",
    "  x_after = [-i if 3<=i and i<=8 else i for i in x]\n",
    "  print(\"실행 후\", x_after)\n",
    "  \n",
    "x = [1,2,3,4,5,6,7,8,9,10]\n",
    "\n",
    "minuslist(x)"
   ]
  },
  {
   "cell_type": "code",
   "execution_count": null,
   "id": "991c9b08",
   "metadata": {},
   "outputs": [
    {
     "name": "stdout",
     "output_type": "stream",
     "text": [
      "a= [1, 2, 3, 4, 5]\n",
      "b= [1, 3, 3, 4, 5, 6, 7]\n",
      "결과 =  [1, 3, 4, 5]\n"
     ]
    }
   ],
   "source": [
    "#리스트 8번\n",
    "def single_list(alist):\n",
    "  aset=set(alist)\n",
    "  non_same=list(aset)\n",
    "  return non_same\n",
    "\n",
    "def same_element(list1,list2):\n",
    "  same_list=[i for i in list1 for j in list2 if i==j]\n",
    "  only=single_list(same_list)\n",
    "  print(\"결과 = \", only)\n",
    "  \n",
    "a = [1,2,3,4,5]\n",
    "b = [1,3,3,4,5,6,7]\n",
    "print(\"a=\",a)\n",
    "print(\"b=\",b)\n",
    "same_element(a,b)"
   ]
  },
  {
   "cell_type": "code",
   "execution_count": 72,
   "id": "480ecbb4",
   "metadata": {},
   "outputs": [
    {
     "name": "stdout",
     "output_type": "stream",
     "text": [
      "(1, 2, 'hello')\n",
      "(10,)\n"
     ]
    }
   ],
   "source": [
    "t = (1,2,'hello')\n",
    "print(t)\n",
    "t = (10,)\n",
    "print(t)"
   ]
  },
  {
   "cell_type": "code",
   "execution_count": 75,
   "id": "cb67ab25",
   "metadata": {},
   "outputs": [
    {
     "ename": "TypeError",
     "evalue": "'tuple' object does not support item assignment",
     "output_type": "error",
     "traceback": [
      "\u001b[31m---------------------------------------------------------------------------\u001b[39m",
      "\u001b[31mTypeError\u001b[39m                                 Traceback (most recent call last)",
      "\u001b[36mCell\u001b[39m\u001b[36m \u001b[39m\u001b[32mIn[75]\u001b[39m\u001b[32m, line 2\u001b[39m\n\u001b[32m      1\u001b[39m t1 = (\u001b[32m1\u001b[39m,\u001b[32m2\u001b[39m,\u001b[32m3\u001b[39m,\u001b[32m4\u001b[39m,\u001b[32m5\u001b[39m)\n\u001b[32m----> \u001b[39m\u001b[32m2\u001b[39m \u001b[43mt1\u001b[49m\u001b[43m[\u001b[49m\u001b[32;43m0\u001b[39;49m\u001b[43m]\u001b[49m = \u001b[32m100\u001b[39m\n",
      "\u001b[31mTypeError\u001b[39m: 'tuple' object does not support item assignment"
     ]
    }
   ],
   "source": [
    "t1 = (1,2,3,4,5)\n",
    "t1[0] = 100\n"
   ]
  },
  {
   "cell_type": "code",
   "execution_count": 79,
   "id": "01aeece7",
   "metadata": {},
   "outputs": [
    {
     "name": "stdout",
     "output_type": "stream",
     "text": [
      "(1, 2, 3, 4, 5, 'red', 'green', 'blue')\n"
     ]
    }
   ],
   "source": [
    "numbers = (1,2,3,4,5)\n",
    "colors = (\"red\",\"green\",\"blue\")\n",
    "t = numbers + colors\n",
    "print(t)"
   ]
  },
  {
   "cell_type": "code",
   "execution_count": 81,
   "id": "a8f355be",
   "metadata": {},
   "outputs": [
    {
     "name": "stdout",
     "output_type": "stream",
     "text": [
      "철수\n",
      "19\n",
      "CS\n"
     ]
    }
   ],
   "source": [
    "student1 = (\"철수\",19,\"CS\")\n",
    "(name,age,major)= student1\n",
    "print(name)\n",
    "print(age)\n",
    "print(major)"
   ]
  },
  {
   "cell_type": "code",
   "execution_count": 104,
   "id": "b2fe658f",
   "metadata": {},
   "outputs": [
    {
     "name": "stdout",
     "output_type": "stream",
     "text": [
      "{'Apple', 'Banana', 'Pineapple'}\n",
      "{1.0, 2.0, (1, 2, 3), 'Hello World'}\n",
      "{'Seoul', 'Paris', 'London', 'Berlin'}\n"
     ]
    }
   ],
   "source": [
    "fruits = {\"Apple\",\"Banana\",\"Pineapple\"}\n",
    "mySet = {1.0,2.0,\"Hello World\",(1,2,3)}\n",
    "cities = {\"Paris\",\"Seoul\",\"London\", \"Berlin\", \"Paris\",\"Seoul\"}\n",
    "\n",
    "print(fruits)\n",
    "print(mySet)\n",
    "print(cities)"
   ]
  },
  {
   "cell_type": "code",
   "execution_count": null,
   "id": "273767ce",
   "metadata": {},
   "outputs": [
    {
     "name": "stdout",
     "output_type": "stream",
     "text": [
      "123\n",
      "123"
     ]
    }
   ],
   "source": [
    "numbers = {2,1,3}\n",
    "for x in numbers:\n",
    "  print(x,end=\"\")\n",
    "print()\n",
    "for x in sorted(numbers):\n",
    "  print(x,end=\"\")"
   ]
  },
  {
   "cell_type": "code",
   "execution_count": 114,
   "id": "7b3b5533",
   "metadata": {},
   "outputs": [
    {
     "name": "stdout",
     "output_type": "stream",
     "text": [
      "{1, 2, 3, 4}\n",
      "set()\n"
     ]
    }
   ],
   "source": [
    "numbers = {2,1,3}\n",
    "numbers.add(4)\n",
    "print(numbers)\n",
    "\n",
    "numbers.clear()\n",
    "print(numbers)"
   ]
  },
  {
   "cell_type": "code",
   "execution_count": null,
   "id": "a6800e9e",
   "metadata": {},
   "outputs": [
    {
     "name": "stdout",
     "output_type": "stream",
     "text": [
      "True\n",
      "True\n",
      "False\n"
     ]
    }
   ],
   "source": [
    "A = {1,2,3}\n",
    "B = {1,2,3}\n",
    "print(A == B)\n",
    "\n",
    "A = {1,2,3,4,5}\n",
    "B = {1,2,3}\n",
    "print(B < A)\n",
    "\n",
    "print(B.issuperset(A))"
   ]
  },
  {
   "cell_type": "code",
   "execution_count": null,
   "id": "ccdfc61b",
   "metadata": {},
   "outputs": [
    {
     "name": "stdout",
     "output_type": "stream",
     "text": [
      "01012345678\n",
      "01012345678\n",
      "{'park': '01012345679', 'lee': '010123456780'}\n"
     ]
    }
   ],
   "source": [
    "contacts = {\"kim\":'01012345678',\"park\":'01012345679',\"lee\":'010123456780'}\n",
    "print(contacts[\"kim\"])\n",
    "contacts.get(\"kim\")\n",
    "print(contacts.pop('kim'))\n",
    "print(contacts)"
   ]
  },
  {
   "cell_type": "code",
   "execution_count": null,
   "id": "4d10ec56",
   "metadata": {},
   "outputs": [
    {
     "name": "stdout",
     "output_type": "stream",
     "text": [
      "[7, 6, 5, 78, 3]\n",
      "[3, 5, 6, 7, 78]\n"
     ]
    }
   ],
   "source": [
    "#튜플,세트,딕셔너리 1번\n",
    "def main1(list1):\n",
    "  list2 = set(list1)\n",
    "  list2 = list(list2)\n",
    "  list2.sort()\n",
    "  print(list1)\n",
    "  print(list2)\n",
    "\n",
    "my_list = list()\n",
    "for i in range(5):\n",
    "  my_list.append(int(input(\"임의의 정수값을 입력하세요 : \")))\n",
    "  \n",
    "main1(my_list)"
   ]
  },
  {
   "cell_type": "code",
   "execution_count": null,
   "id": "3aa3a043",
   "metadata": {},
   "outputs": [
    {
     "name": "stdout",
     "output_type": "stream",
     "text": [
      "{1: 1, 2: 4, 3: 9, 4: 16, 5: 25, 6: 36, 7: 49, 8: 64, 9: 81, 10: 100}\n"
     ]
    }
   ],
   "source": [
    "#튜플,세트,딕셔너리 2번\n",
    "\n",
    "def main2():\n",
    "  dic = {x:x*x for x in range(1,11)}\n",
    "  print(dic)\n",
    "\n",
    "main2()"
   ]
  },
  {
   "cell_type": "code",
   "execution_count": 165,
   "id": "669e283f",
   "metadata": {},
   "outputs": [
    {
     "name": "stdout",
     "output_type": "stream",
     "text": [
      "apple  ->  1\n",
      "banana  ->  2\n",
      "grape  ->  3\n"
     ]
    }
   ],
   "source": [
    "#튜플,세트,딕셔너리 3번\n",
    "\n",
    "def main3():\n",
    "  d = {\"apple\" : 1, \"banana\" : 2, \"grape\" : 3}\n",
    "  for key, num in d.items():\n",
    "    print(key,\" -> \",num)\n",
    "\n",
    "main3()"
   ]
  },
  {
   "cell_type": "code",
   "execution_count": 167,
   "id": "bc15710d",
   "metadata": {},
   "outputs": [
    {
     "name": "stdout",
     "output_type": "stream",
     "text": [
      "키 5은(는) 딕셔너리에 있음.\n"
     ]
    }
   ],
   "source": [
    "#튜플,세트,딕셔너리 4번\n",
    "def main4():\n",
    "  d = {1:10,2:20,3:30,4:40,5:50,6:60}\n",
    "  key = int(input(\"키를 입력하세요 : \"))\n",
    "  if key in d:\n",
    "    print(\"키 %d은(는) 딕셔너리에 있음.\"% key)\n",
    "  else:\n",
    "    print(\"키 %d은(는) 딕셔너리에 없음.\"% key)\n",
    "    \n",
    "main4()"
   ]
  },
  {
   "cell_type": "code",
   "execution_count": 1,
   "id": "2120ce2b",
   "metadata": {},
   "outputs": [
    {
     "name": "stdout",
     "output_type": "stream",
     "text": [
      "Collecting pygame\n",
      "  Downloading pygame-2.6.1-cp313-cp313-win_amd64.whl.metadata (13 kB)\n",
      "Downloading pygame-2.6.1-cp313-cp313-win_amd64.whl (10.6 MB)\n",
      "   ---------------------------------------- 0.0/10.6 MB ? eta -:--:--\n",
      "   - -------------------------------------- 0.5/10.6 MB 3.0 MB/s eta 0:00:04\n",
      "   ---- ----------------------------------- 1.3/10.6 MB 3.6 MB/s eta 0:00:03\n",
      "   ------- -------------------------------- 2.1/10.6 MB 3.7 MB/s eta 0:00:03\n",
      "   ------------ --------------------------- 3.4/10.6 MB 4.1 MB/s eta 0:00:02\n",
      "   --------------- ------------------------ 4.2/10.6 MB 4.1 MB/s eta 0:00:02\n",
      "   ------------------ --------------------- 5.0/10.6 MB 4.1 MB/s eta 0:00:02\n",
      "   ----------------------- ---------------- 6.3/10.6 MB 4.4 MB/s eta 0:00:01\n",
      "   ----------------------------- ---------- 7.9/10.6 MB 4.8 MB/s eta 0:00:01\n",
      "   ----------------------------------- ---- 9.4/10.6 MB 5.1 MB/s eta 0:00:01\n",
      "   ------------------------------------- -- 10.0/10.6 MB 4.8 MB/s eta 0:00:01\n",
      "   ---------------------------------------- 10.6/10.6 MB 4.8 MB/s eta 0:00:00\n",
      "Installing collected packages: pygame\n",
      "Successfully installed pygame-2.6.1\n",
      "Note: you may need to restart the kernel to use updated packages.\n"
     ]
    }
   ],
   "source": [
    "pip install pygame"
   ]
  },
  {
   "cell_type": "code",
   "execution_count": null,
   "id": "b3cd6a23",
   "metadata": {},
   "outputs": [],
   "source": [
    "import pygame\n",
    "\n",
    "# 초기화\n",
    "pygame.init()\n",
    "screen = pygame.display.set_mode((800,600))\n",
    "pygame.display.set_caption(\"PYGAME!\")\n",
    "clock = pygame.time.Clock()\n",
    "\n",
    "img = pygame.image.load(\"picachu.png\")\n",
    "img = pygame.transform.scale(img, (300,300))\n",
    "\n",
    "x = 250\n",
    "y = 150\n",
    "\n",
    "FONT = pygame.font.SysFont(\"malgun gothic\", 48)\n",
    "text = FONT.render(\"Intel\", True, (255,255,255))\n",
    "\n",
    "while True:\n",
    "  screen.fill((0,0,0))\n",
    "  \n",
    "  for event in pygame.event.get():\n",
    "    if event.type == pygame.KEYDOWN:\n",
    "      if event.key == pygame.K_q:\n",
    "        pygame.quit()\n",
    "      elif event.key == pygame.K_a:\n",
    "        x -= 10\n",
    "      elif event.key == pygame.K_d:\n",
    "        x += 10\n",
    "      elif event.key == pygame.K_w:\n",
    "        y -= 10\n",
    "      elif event.key == pygame.K_s:\n",
    "        y += 10\n",
    "        \n",
    "  screen.blit(img, (x,y))\n",
    "  \n",
    "  pygame.display.update()\n",
    "  clock.tick(30)"
   ]
  },
  {
   "cell_type": "code",
   "execution_count": null,
   "id": "d1f88fb1",
   "metadata": {},
   "outputs": [],
   "source": [
    "import pygame\n",
    "import random\n",
    "\n",
    "# 초기화\n",
    "pygame.init()\n",
    "screen = pygame.display.set_mode((800, 600))\n",
    "pygame.display.set_caption(\"Typing Game!\")\n",
    "FONT = pygame.font.SysFont(\"malgun gothic\", 48)\n",
    "INPUT_FONT = pygame.font.SysFont(\"malgun gothic\", 36)\n",
    "TIMER = pygame.USEREVENT + 1\n",
    "pygame.time.set_timer(TIMER, 2000)\n",
    "clock = pygame.time.Clock()\n",
    "\n",
    "# 단어 리스트\n",
    "# To Do List:\n",
    "# 영어 단어들로만 구성된 List 생성\n",
    "WORDS = []\n",
    "    \n",
    "# 게임 상태 변수\n",
    "user_input = \"\"\n",
    "score = 0\n",
    "lives = 3\n",
    "falling_words = []\n",
    "\n",
    "def get_random_word():\n",
    "    # To Do List:\n",
    "    # 랜덤 단어를 반환하는 함수\n",
    "    # 이 함수는 단어 리스트에서 무작위로 단어를 선택하여 반환합니다.\n",
    "\n",
    "def add_falling_word():\n",
    "    # To Do List:\n",
    "    # 떨어지는 단어를 추가하는 함수\n",
    "    # 이 함수는 get_random_word() 함수를 호출하여 단어를 가져오고,\n",
    "    # 해당 단어의 위치와 속도를 설정하여 falling_words 리스트에 추가합니다.\n",
    "    # word =  # 랜덤 단어\n",
    "    # x =     # 랜덤 x 좌표 (50에서 700 사이)\n",
    "    # y =     # 랜덤 y 좌표 (시작 위치는 화면 상단)\n",
    "    # speed = # 랜덤 속도 (2에서 5 사이)\n",
    "    # falling_words # 리스트에 추가 (word, x, y, speed)\n",
    "\n",
    "def update_words():\n",
    "    # To Do List:\n",
    "    # 떨어지는 단어들의 위치를 업데이트하는 함수\n",
    "    # 이 함수는 falling_words 리스트의 각 단어에 대해 y 좌표를 speed만큼 증가시킵니다.\n",
    "\n",
    "def check_input():\n",
    "    # To Do List:\n",
    "    # 사용자가 입력한 단어가 떨어지는 단어와 일치하는지 확인하는 함수\n",
    "    # 이 함수는 falling_words 리스트를 순회하며 user_input과 일치하는 단어를 찾습니다.\n",
    "    # 일치하는 단어가 있으면 \n",
    "    #         - 해당 단어를 falling_words에서 제거하고,\n",
    "    #         - 점수를 10점 증가시키고 user_input을 초기화합니다.\n",
    "    # 일치하는 단어가 없으면 \n",
    "    #         - user_input을 초기화합니다.\n",
    "    # 반환은 True 또는 False로, 일치하는 단어가 있었는지 여부를 나타냅니다.\n",
    "\n",
    "def check_missed():\n",
    "    # To Do List:\n",
    "    # 떨어지는 단어가 화면 아래로 넘어갔는지 확인하는 함수\n",
    "    # 이 함수는 falling_words 리스트를 순회하며 y 좌표가 600을 초과하는 단어를 찾습니다.\n",
    "    # 해당 단어를 falling_words에서 제거하고 lives를 1 감소시킵니다.\n",
    "\n",
    "def draw_words():\n",
    "    for word in falling_words:\n",
    "        text = FONT.render(word[\"word\"], True, (255, 255, 255))\n",
    "        screen.blit(text, (word[\"x\"], word[\"y\"]))\n",
    "\n",
    "def draw_ui():\n",
    "    draw_words()\n",
    "    input_text = INPUT_FONT.render(f\"입력: {user_input}\", True, (0, 255, 0))\n",
    "    score_text = INPUT_FONT.render(f\"점수: {score}\", True, (255, 255, 0))\n",
    "    lives_text = INPUT_FONT.render(f\"목숨: {lives}\", True, (255, 100, 100))\n",
    "    screen.blit(input_text, (20, 550))\n",
    "    screen.blit(score_text, (650, 20))\n",
    "    screen.blit(lives_text, (650, 60))\n",
    "\n",
    "# 메인 루프\n",
    "running = True\n",
    "while running:\n",
    "    screen.fill((0, 0, 0))\n",
    "\n",
    "    for event in pygame.event.get():\n",
    "        if event.type == pygame.QUIT:\n",
    "            running = False\n",
    "        elif event.type == TIMER:\n",
    "            add_falling_word()\n",
    "        elif event.type == pygame.KEYDOWN:\n",
    "            if event.key == pygame.K_BACKSPACE:\n",
    "                user_input = user_input[:-1]\n",
    "            elif event.key == pygame.K_RETURN:\n",
    "                check_input()\n",
    "            else:\n",
    "                user_input += event.unicode\n",
    "\n",
    "    update_words()\n",
    "    check_missed()\n",
    "    draw_ui()\n",
    "\n",
    "    if lives <= 0:\n",
    "        game_over_text = FONT.render(\"Game Over\", True, (255, 0, 0))\n",
    "        screen.blit(game_over_text, (300, 250))\n",
    "        pygame.display.update()\n",
    "        pygame.time.wait(3000)\n",
    "        running = False\n",
    "\n",
    "    pygame.display.update()\n",
    "    clock.tick(30)\n",
    "\n",
    "pygame.quit()"
   ]
  },
  {
   "cell_type": "code",
   "execution_count": null,
   "id": "0ee776c6",
   "metadata": {},
   "outputs": [],
   "source": [
    "import pygame\n",
    "import random\n",
    "\n",
    "# 초기화\n",
    "pygame.init()\n",
    "screen = pygame.display.set_mode((800, 600))\n",
    "pygame.display.set_caption(\"Typing Game!\")\n",
    "FONT = pygame.font.SysFont(\"malgun gothic\", 48)\n",
    "INPUT_FONT = pygame.font.SysFont(\"malgun gothic\", 36)\n",
    "TIMER = pygame.USEREVENT + 1\n",
    "pygame.time.set_timer(TIMER, 2000)\n",
    "clock = pygame.time.Clock()\n",
    "\n",
    "# 단어 리스트\n",
    "words = [\"about\",\"accept\",\"action\",\"add\",\"age\",\"address\",\"art\",\"bar\",\"behind\",\"blue\",\"brother\",\"business\",\n",
    "         \"car\",\"cell\",\"center\",\"challenge\",\"choice\",\"common\",\"deep\",\"different\",\"dinner\",\"drop\",\n",
    "         \"eat\",\"effect\",\"else\",\"enter\",\"expert\",\"feeling\",\"find\",\"five\",\"forward\",\"give\",\"ground\",\n",
    "         \"happen\",\"heart\",\"hope\",\"history\",\"house\",\"include\",\"item\",\"into\",\"interest\",\"inside\",\"kitchen\",\"large\",\"language\"]\n",
    "\n",
    "\n",
    "# 게임 상태 변수\n",
    "user_input = \"\"\n",
    "score = 0\n",
    "lives = 3\n",
    "falling_words = []\n",
    "\n",
    "def get_random_word():\n",
    "  ran_words = random.choice(words)\n",
    "  return ran_words\n",
    "  \n",
    "def add_falling_word():\n",
    "  word = get_random_word()\n",
    "  x = random.randint(50,600)\n",
    "  y = 0\n",
    "  speed = random.randint(2,5)\n",
    "  falling_words.append ({\"word\":word,\"x\":x,\"y\":y,\"speed\":speed})\n",
    "  \n",
    "  \n",
    "def update_words():\n",
    "  for word in falling_words:\n",
    "    word[\"y\"] += word[\"speed\"]\n",
    "  \n",
    "\n",
    "def check_input():\n",
    "  global score, user_input\n",
    "  for word in falling_words:\n",
    "    if word[\"word\"] == user_input:\n",
    "      falling_words.remove(word)\n",
    "      score += 10\n",
    "      user_input = \"\"\n",
    "      return True\n",
    "  else :\n",
    "    user_input = \"\"\n",
    "    return False\n",
    "  \n",
    "def check_missed():\n",
    "  global lives\n",
    "  for word in falling_words:\n",
    "    if word[\"y\"] > 600:\n",
    "      falling_words.remove(word)\n",
    "      lives -= 1\n",
    "      \n",
    "def draw_words():\n",
    "    for word in falling_words:\n",
    "        text = FONT.render(word[\"word\"], True, (255, 255, 255))\n",
    "        screen.blit(text, (word[\"x\"], word[\"y\"]))\n",
    "        \n",
    "def draw_ui():\n",
    "    draw_words()\n",
    "    input_text = INPUT_FONT.render(f\"입력: {user_input}\", True, (0, 255, 0))\n",
    "    score_text = INPUT_FONT.render(f\"점수: {score}\", True, (255, 255, 0))\n",
    "    lives_text = INPUT_FONT.render(f\"목숨: {lives}\", True, (255, 100, 100))\n",
    "    screen.blit(input_text, (20, 550))\n",
    "    screen.blit(score_text, (650, 20))\n",
    "    screen.blit(lives_text, (650, 60))\n",
    "\n",
    "running = True\n",
    "while running:\n",
    "    screen.fill((0, 0, 0))\n",
    "\n",
    "    for event in pygame.event.get():\n",
    "        if event.type == pygame.QUIT:\n",
    "            running = False\n",
    "        elif event.type == TIMER:\n",
    "            add_falling_word()\n",
    "        elif event.type == pygame.KEYDOWN:\n",
    "            if event.key == pygame.K_BACKSPACE:\n",
    "                user_input = user_input[:-1]\n",
    "            elif event.key == pygame.K_RETURN:\n",
    "                check_input()\n",
    "            else:\n",
    "                user_input += event.unicode\n",
    "\n",
    "    update_words()\n",
    "    check_missed()\n",
    "    draw_ui()\n",
    "\n",
    "    if lives <= 0:\n",
    "        game_over_text = FONT.render(\"Game Over\", True, (255, 0, 0))\n",
    "        screen.blit(game_over_text, (300, 250))\n",
    "        pygame.display.update()\n",
    "        pygame.time.wait(3000)\n",
    "        running = False\n",
    "\n",
    "    pygame.display.update()\n",
    "    clock.tick(30)\n",
    "\n",
    "pygame.quit()\n"
   ]
  },
  {
   "cell_type": "code",
   "execution_count": null,
   "id": "108c7222",
   "metadata": {},
   "outputs": [
    {
     "name": "stdout",
     "output_type": "stream",
     "text": [
      "문제 1 : \n",
      "다음 단어들을 올바른 순서로 조합하세요 : \n",
      "학교를 간다 나는\n",
      "나는 학교를 간다\n",
      "문제 1 : \n",
      "다음 단어들을 올바른 순서로 조합하세요 : \n",
      "한다 출근을 오늘도\n",
      "오늘도 출근을 한다\n",
      "문제 1 : \n",
      "다음 단어들을 올바른 순서로 조합하세요 : \n",
      "내일은 아무것도 안한다\n",
      "내일은 아무것도 안한다\n",
      "문제 1 : \n",
      "다음 단어들을 올바른 순서로 조합하세요 : \n",
      "저녁에 밥을 먹는다\n",
      "저녁에 밥을 먹는다\n",
      "문제 1 : \n",
      "다음 단어들을 올바른 순서로 조합하세요 : \n",
      "학교를 간다 나는\n",
      "나는 학교를 간다\n"
     ]
    }
   ],
   "source": [
    "# 작성자 : 박우현\n",
    "\n",
    "import random\n",
    "\n",
    "list1 = [[[\"나는\"],[\"학교를\"],[\"간다\"]],\n",
    "         [[\"저녁에\"],[\"밥을\"],[\"먹는다\"]],\n",
    "         [[\"오늘도\"],[\"출근을\"],[\"한다\"]],\n",
    "         [[\"주말에\"],[\"여행을\"],[\"간다\"]],\n",
    "         [[\"내일은\"],[\"아무것도\"],[\"안한다\"]]]\n",
    "\n",
    "for i in range(5):\n",
    "  print(\"문제 1 : \")\n",
    "  print(\"다음 단어들을 올바른 순서로 조합하세요 : \")\n",
    "  list2 = random.choice(list1)\n",
    "  front = str(\" \".join(list2[0]))\n",
    "  middle = str(\" \".join(list2[1]))\n",
    "  back = str(\" \".join(list2[2]))\n",
    "  a = front , middle , back\n",
    "  list3 = [front,middle,back]\n",
    "  random.shuffle(list3)\n",
    "  print(\" \".join(list3))\n",
    "  \n",
    "  a = front,middle,back\n",
    "  b = (\" \".join(a))\n",
    "  \n",
    "  answer = input(\"정확한 문장을 입력하세요 : \")\n",
    "  \n",
    "  if answer == b:\n",
    "    print(\"정답입니다!\")\n",
    "  else:\n",
    "    print(\"오답입니다!\")\n",
    "\n",
    "  \n",
    "  \n",
    "\n",
    "  \n",
    "  "
   ]
  }
 ],
 "metadata": {
  "kernelspec": {
   "display_name": "Python 3",
   "language": "python",
   "name": "python3"
  },
  "language_info": {
   "codemirror_mode": {
    "name": "ipython",
    "version": 3
   },
   "file_extension": ".py",
   "mimetype": "text/x-python",
   "name": "python",
   "nbconvert_exporter": "python",
   "pygments_lexer": "ipython3",
   "version": "3.13.5"
  }
 },
 "nbformat": 4,
 "nbformat_minor": 5
}
