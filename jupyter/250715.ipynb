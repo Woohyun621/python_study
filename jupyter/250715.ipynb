{
 "cells": [
  {
   "cell_type": "code",
   "execution_count": null,
   "id": "91af0802",
   "metadata": {},
   "outputs": [],
   "source": [
    "import random\n",
    "import time\n",
    "\n",
    "score = 0\n",
    "life = 3\n",
    "speed = 0\n",
    "\n",
    "words = [\"가지\",\"다리미\",\"나비\",\"바지\",\"사다리\",\"비누\",\"오이\",\"우유\",\"부채\",\"무지개\",\"주머니\",\"고구마\",\"허수아비\",\"기차\",\"포도\",\"무기\",\"모래\",\"파도\",\"주사기\",\"하마\",\"고양이\"]"
   ]
  }
 ],
 "metadata": {
  "language_info": {
   "name": "python"
  }
 },
 "nbformat": 4,
 "nbformat_minor": 5
}
