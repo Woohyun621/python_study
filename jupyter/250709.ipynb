{
 "cells": [
  {
   "cell_type": "code",
   "execution_count": 2,
   "id": "86c2a4a2",
   "metadata": {},
   "outputs": [
    {
     "name": "stdout",
     "output_type": "stream",
     "text": [
      "안녕!철수\n",
      "안녕!영희\n",
      "안녕!길동\n",
      "안녕!유신\n"
     ]
    }
   ],
   "source": [
    "for name in (\"철수\",\"영희\",\"길동\",\"유신\"):\n",
    "  print(\"안녕!\" + name)"
   ]
  },
  {
   "cell_type": "code",
   "execution_count": 6,
   "id": "103712d8",
   "metadata": {},
   "outputs": [
    {
     "name": "stdout",
     "output_type": "stream",
     "text": [
      "가 a 나 b 다 c "
     ]
    }
   ],
   "source": [
    "for c in \"가a나b다c\":\n",
    "  print(c, end=\" \")"
   ]
  },
  {
   "cell_type": "code",
   "execution_count": 20,
   "id": "16047bd4",
   "metadata": {},
   "outputs": [
    {
     "name": "stdout",
     "output_type": "stream",
     "text": [
      "현재 확인 중인 과일: apple\n",
      "현재 확인 중인 과일: banana\n",
      "찾는 과일 'orange'을(를) 찾았습니다!\n",
      "탐색을 완료했습니다\n"
     ]
    }
   ],
   "source": [
    "fruits = [\"apple\", \"banana\", \"orange\", \"grape\", \"kiwi\"]\n",
    "search_fruit = \"orange\"\n",
    "\n",
    "for fruit in fruits:\n",
    "  if fruit == search_fruit:\n",
    "    print(f\"찾는 과일 '{search_fruit}'을(를) 찾았습니다!\")\n",
    "    break\n",
    "  print(f\"현재 확인 중인 과일: {fruit}\")  \n",
    "print(\"탐색을 완료했습니다\")"
   ]
  },
  {
   "cell_type": "code",
   "execution_count": 24,
   "id": "5e886d64",
   "metadata": {},
   "outputs": [
    {
     "name": "stdout",
     "output_type": "stream",
     "text": [
      "환영합니다\n",
      "환영합니다\n",
      "환영합니다\n",
      "환영합니다\n",
      "환영합니다\n",
      "반복이 종료되었습니다.\n"
     ]
    }
   ],
   "source": [
    "i = 0\n",
    "while i < 5:\n",
    "  print(\"환영합니다\")\n",
    "  i=i+1\n",
    "print(\"반복이 종료되었습니다.\")"
   ]
  },
  {
   "cell_type": "code",
   "execution_count": 25,
   "id": "72002eae",
   "metadata": {},
   "outputs": [
    {
     "name": "stdout",
     "output_type": "stream",
     "text": [
      "사랑합니다\n",
      "사랑합니다\n",
      "사랑합니다\n",
      "사랑합니다\n",
      "사랑합니다\n",
      "사랑합니다\n",
      "사랑합니다\n",
      "사랑합니다\n",
      "사랑합니다\n",
      "사랑합니다\n",
      "끝났습니다\n"
     ]
    }
   ],
   "source": [
    "i=1\n",
    "while i<=10:\n",
    "  print(\"사랑합니다\")\n",
    "  i+=1\n",
    "print(\"끝났습니다\")"
   ]
  },
  {
   "cell_type": "code",
   "execution_count": 29,
   "id": "4fdbaf68",
   "metadata": {},
   "outputs": [
    {
     "name": "stdout",
     "output_type": "stream",
     "text": [
      "종료하려면 음수값을 입력하세요.\n",
      "평균 점수는 51.0 입니다.\n"
     ]
    }
   ],
   "source": [
    "score = 0\n",
    "total_sum=0\n",
    "c=0\n",
    "print(\"종료하려면 음수값을 입력하세요.\")\n",
    "while score >= 0:\n",
    "  score = int(input(\"점수를 입력하세요 : \"))\n",
    "  if score>0:\n",
    "    total_sum +=score\n",
    "    c+=1\n",
    "if c>0:\n",
    "  average = total_sum / c\n",
    "  print(\"평균 점수는\", average, \"입니다.\")"
   ]
  },
  {
   "cell_type": "code",
   "execution_count": 48,
   "id": "579f0191",
   "metadata": {},
   "outputs": [
    {
     "name": "stdout",
     "output_type": "stream",
     "text": [
      "* * * * * \n",
      "* * * * * \n",
      "* * * * * \n",
      "* * * * * \n",
      "* * * * * \n"
     ]
    }
   ],
   "source": [
    "a = int(input())\n",
    "\n",
    "for x in range(a):\n",
    "  for y in range(a):\n",
    "    print(\"*\",end=\" \")\n",
    "  print()"
   ]
  },
  {
   "cell_type": "code",
   "execution_count": 51,
   "id": "5471a717",
   "metadata": {},
   "outputs": [
    {
     "name": "stdout",
     "output_type": "stream",
     "text": [
      "모음의 개수 :  0\n",
      "자음의 개수 :  5\n"
     ]
    }
   ],
   "source": [
    "ori = input(\"문자열을 입력하시오 : \")\n",
    "word = ori.lower()\n",
    "vowels = 0\n",
    "consonants = 0\n",
    "\n",
    "if len(ori) > 0 and ori.isalpha():\n",
    "  for char in word:\n",
    "    if char in\"aeiou\":\n",
    "      vowels = vowels + 1\n",
    "    else:\n",
    "      consonants = consonants + 1\n",
    "print(\"모음의 개수 : \", vowels)\n",
    "print(\"자음의 개수 : \", consonants )"
   ]
  },
  {
   "cell_type": "code",
   "execution_count": null,
   "id": "03d94e1c",
   "metadata": {},
   "outputs": [],
   "source": []
  }
 ],
 "metadata": {
  "kernelspec": {
   "display_name": "Python 3",
   "language": "python",
   "name": "python3"
  },
  "language_info": {
   "codemirror_mode": {
    "name": "ipython",
    "version": 3
   },
   "file_extension": ".py",
   "mimetype": "text/x-python",
   "name": "python",
   "nbconvert_exporter": "python",
   "pygments_lexer": "ipython3",
   "version": "3.12.5"
  }
 },
 "nbformat": 4,
 "nbformat_minor": 5
}
