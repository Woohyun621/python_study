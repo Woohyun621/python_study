{
 "cells": [
  {
   "cell_type": "code",
   "execution_count": null,
   "id": "3182d348",
   "metadata": {},
   "outputs": [
    {
     "name": "stdout",
     "output_type": "stream",
     "text": [
      "속담 맞추기 게임\n",
      "\n"
     ]
    },
    {
     "ename": "TypeError",
     "evalue": "Random.sample() missing 1 required positional argument: 'k'",
     "output_type": "error",
     "traceback": [
      "\u001b[31m---------------------------------------------------------------------------\u001b[39m",
      "\u001b[31mTypeError\u001b[39m                                 Traceback (most recent call last)",
      "\u001b[36mCell\u001b[39m\u001b[36m \u001b[39m\u001b[32mIn[74]\u001b[39m\u001b[32m, line 9\u001b[39m\n\u001b[32m      5\u001b[39m list1=[[\u001b[33m\"\u001b[39m\u001b[33m가는날이\u001b[39m\u001b[33m\"\u001b[39m,\u001b[33m\"\u001b[39m\u001b[33m장날이다\u001b[39m\u001b[33m\"\u001b[39m],[\u001b[33m\"\u001b[39m\u001b[33m금강산도\u001b[39m\u001b[33m\"\u001b[39m,\u001b[33m\"\u001b[39m\u001b[33m식후경\u001b[39m\u001b[33m\"\u001b[39m],[\u001b[33m\"\u001b[39m\u001b[33m꿩 대신\u001b[39m\u001b[33m\"\u001b[39m, \u001b[33m\"\u001b[39m\u001b[33m닭\u001b[39m\u001b[33m\"\u001b[39m],[\u001b[33m\"\u001b[39m\u001b[33m누워서\u001b[39m\u001b[33m\"\u001b[39m,\u001b[33m\"\u001b[39m\u001b[33m떡 먹기\u001b[39m\u001b[33m\"\u001b[39m],[\u001b[33m\"\u001b[39m\u001b[33m도토리\u001b[39m\u001b[33m\"\u001b[39m,\u001b[33m\"\u001b[39m\u001b[33m키 재기\u001b[39m\u001b[33m\"\u001b[39m],[\u001b[33m\"\u001b[39m\u001b[33m되로 주고\u001b[39m\u001b[33m\"\u001b[39m,\u001b[33m\"\u001b[39m\u001b[33m말로 받는다\u001b[39m\u001b[33m\"\u001b[39m],\n\u001b[32m      6\u001b[39m          [\u001b[33m\"\u001b[39m\u001b[33m등잔 밑이\u001b[39m\u001b[33m\"\u001b[39m,\u001b[33m\"\u001b[39m\u001b[33m어둡다\u001b[39m\u001b[33m\"\u001b[39m],[\u001b[33m\"\u001b[39m\u001b[33m바늘 도둑이\u001b[39m\u001b[33m\"\u001b[39m,\u001b[33m\"\u001b[39m\u001b[33m소 도둑 된다\u001b[39m\u001b[33m\"\u001b[39m],[\u001b[33m\"\u001b[39m\u001b[33m병 주고\u001b[39m\u001b[33m\"\u001b[39m,\u001b[33m\"\u001b[39m\u001b[33m약 준다\u001b[39m\u001b[33m\"\u001b[39m]]\n\u001b[32m      8\u001b[39m \u001b[38;5;28;01mfor\u001b[39;00m i \u001b[38;5;129;01min\u001b[39;00m \u001b[38;5;28mrange\u001b[39m(\u001b[32m5\u001b[39m):\n\u001b[32m----> \u001b[39m\u001b[32m9\u001b[39m   front , back = \u001b[43mrandom\u001b[49m\u001b[43m.\u001b[49m\u001b[43msample\u001b[49m\u001b[43m(\u001b[49m\u001b[43mlist1\u001b[49m\u001b[43m)\u001b[49m\n\u001b[32m     10\u001b[39m   \u001b[38;5;28mprint\u001b[39m(\u001b[33mf\u001b[39m\u001b[33m\"\u001b[39m\u001b[33m속담 : \u001b[39m\u001b[38;5;130;01m\\\"\u001b[39;00m\u001b[38;5;132;01m{\u001b[39;00mfront\u001b[38;5;132;01m}\u001b[39;00m\u001b[38;5;130;01m\\\"\u001b[39;00m\u001b[33m\"\u001b[39m)\n\u001b[32m     11\u001b[39m   word = \u001b[38;5;28minput\u001b[39m(\u001b[33mf\u001b[39m\u001b[33m\"\u001b[39m\u001b[38;5;130;01m\\\"\u001b[39;00m\u001b[38;5;132;01m{\u001b[39;00mfront\u001b[38;5;132;01m}\u001b[39;00m\u001b[38;5;130;01m\\\"\u001b[39;00m\u001b[33m 뒤로 올 말을 적으시오 : \u001b[39m\u001b[33m\"\u001b[39m).strip()\n",
      "\u001b[31mTypeError\u001b[39m: Random.sample() missing 1 required positional argument: 'k'"
     ]
    }
   ],
   "source": [
    "import random\n",
    "print(\"속담 맞추기 게임\\n\")\n",
    "count=0\n",
    "\n",
    "list1=[[\"가는날이\",\"장날이다\"],[\"금강산도\",\"식후경\"],[\"꿩 대신\", \"닭\"],[\"누워서\",\"떡 먹기\"],[\"도토리\",\"키 재기\"],[\"되로 주고\",\"말로 받는다\"],\n",
    "         [\"등잔 밑이\",\"어둡다\"],[\"바늘 도둑이\",\"소 도둑 된다\"],[\"병 주고\",\"약 준다\"]]\n",
    "\n",
    "for i in range(5):\n",
    "  front , back = random.choice(list1)\n",
    "  print(f\"속담 : \\\"{front}\\\"\")\n",
    "  word = input(f\"\\\"{front}\\\" 뒤로 올 말을 적으시오 : \").strip()\n",
    "  print(f'\"{word}\"')\n",
    "  \n",
    "  if word == back :\n",
    "    count += 1\n",
    "    print(\"정답\")\n",
    "  else:\n",
    "    print(\"오답\")\n",
    "    print(f\"첫 글자 힌트 : {back[0:1]}\")\n",
    "    word = input(f\"\\\"{front}\\\" 힌트 : {back[0:1]}로 시작합니다. : \").strip()\n",
    "    print(f'\"{word}\"')\n",
    "    \n",
    "    if word == back :\n",
    "      count += 1\n",
    "      print(\"정답\")\n",
    "    else:\n",
    "      print(\"오답\")\n",
    "      \n",
    "  list1.remove([front,back])\n",
    "  print()\n",
    "\n",
    "i+=1\n",
    "print(f\"{i}개의 문제 중 {count}개를 맞춤.\")"
   ]
  },
  {
   "cell_type": "code",
   "execution_count": 63,
   "id": "bd0578be",
   "metadata": {},
   "outputs": [
    {
     "name": "stdout",
     "output_type": "stream",
     "text": [
      "Collecting qrcode\n",
      "  Downloading qrcode-8.2-py3-none-any.whl.metadata (17 kB)\n",
      "Collecting pillow\n",
      "  Downloading pillow-11.3.0-cp313-cp313-win_amd64.whl.metadata (9.2 kB)\n",
      "Requirement already satisfied: colorama in c:\\users\\samsung\\appdata\\roaming\\python\\python313\\site-packages (from qrcode) (0.4.6)\n",
      "Downloading qrcode-8.2-py3-none-any.whl (45 kB)\n",
      "Downloading pillow-11.3.0-cp313-cp313-win_amd64.whl (7.0 MB)\n",
      "   ---------------------------------------- 0.0/7.0 MB ? eta -:--:--\n",
      "   ------------- -------------------------- 2.4/7.0 MB 11.7 MB/s eta 0:00:01\n",
      "   --------------------------- ------------ 4.7/7.0 MB 11.7 MB/s eta 0:00:01\n",
      "   ---------------------------------------  6.8/7.0 MB 11.8 MB/s eta 0:00:01\n",
      "   ---------------------------------------- 7.0/7.0 MB 10.8 MB/s eta 0:00:00\n",
      "Installing collected packages: qrcode, pillow\n",
      "\n",
      "   ---------------------------------------- 0/2 [qrcode]\n",
      "   -------------------- ------------------- 1/2 [pillow]\n",
      "   -------------------- ------------------- 1/2 [pillow]\n",
      "   -------------------- ------------------- 1/2 [pillow]\n",
      "   -------------------- ------------------- 1/2 [pillow]\n",
      "   ---------------------------------------- 2/2 [pillow]\n",
      "\n",
      "Successfully installed pillow-11.3.0 qrcode-8.2\n",
      "Note: you may need to restart the kernel to use updated packages.\n"
     ]
    }
   ],
   "source": [
    "pip install qrcode pillow"
   ]
  },
  {
   "cell_type": "code",
   "execution_count": null,
   "id": "187060bc",
   "metadata": {},
   "outputs": [],
   "source": [
    "import random\n",
    "import qrcode\n",
    "\n",
    "list1=[[\"가는날이\",\"장날이다\"],[\"금강산도\",\"식후경\"],[\"꿩 대신\", \"닭\"],[\"누워서\",\"떡 먹기\"],[\"도토리\",\"키 재기\"],[\"되로 주고\",\"말로 받는다\"],\n",
    "         [\"등잔 밑이\",\"어둡다\"],[\"바늘 도둑이\",\"소 도둑 된다\"],[\"병 주고\",\"약 준다\"]]\n",
    "\n",
    "proverbs= random.sample(list1)\n",
    "\n",
    "for question, answer in questions:\n",
    "  print(f\"속담 : \\\"{front}\\\"\")\n",
    "  \n",
    "  img = qrcode.make(answer)\n",
    "  img.save(\"answer_qr.png\")\n",
    "  \n",
    "  if word == back :\n",
    "    print(\"정답\")\n",
    "  else:\n",
    "    print(\"오답\")\n",
    "    print(f\"첫 글자 힌트 : {back[0:1]}\")\n",
    "    word = input(f\"\\\"{front}\\\" 힌트 : {back[0:1]}로 시작합니다. : \").strip()\n",
    "    print(f'\"{word}\"')\n",
    "    \n",
    "    if word == back :\n",
    "      print(\"정답\")\n",
    "    else:\n",
    "      print(\"오답\")\n",
    "      \n",
    "  print()\n",
    "  x = input(\"종료를 치면 종료됨.\")\n",
    "  if x == \"종료\":\n",
    "    break\n",
    "  else:\n",
    "    pass\n"
   ]
  }
 ],
 "metadata": {
  "kernelspec": {
   "display_name": "Python 3",
   "language": "python",
   "name": "python3"
  },
  "language_info": {
   "codemirror_mode": {
    "name": "ipython",
    "version": 3
   },
   "file_extension": ".py",
   "mimetype": "text/x-python",
   "name": "python",
   "nbconvert_exporter": "python",
   "pygments_lexer": "ipython3",
   "version": "3.13.5"
  }
 },
 "nbformat": 4,
 "nbformat_minor": 5
}
