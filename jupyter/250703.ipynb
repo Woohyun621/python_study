{
 "cells": [
  {
   "cell_type": "code",
   "execution_count": 27,
   "id": "ac2c7693",
   "metadata": {},
   "outputs": [
    {
     "data": {
      "text/plain": [
       "27"
      ]
     },
     "execution_count": 27,
     "metadata": {},
     "output_type": "execute_result"
    }
   ],
   "source": [
    "3 ** 3"
   ]
  },
  {
   "cell_type": "code",
   "execution_count": 7,
   "id": "35ae7c21",
   "metadata": {},
   "outputs": [
    {
     "name": "stdout",
     "output_type": "stream",
     "text": [
      "만나서 반갑니다 나 씨\n",
      "네, 그러면 당신은 이미 12 살이시군요\n"
     ]
    }
   ],
   "source": [
    "name = input(\"이름이 무엇인가요?\")\n",
    "print(\"만나서 반갑니다 \" + name + \" 씨\")\n",
    "age = input(\"나이는요?\")\n",
    "print(\"네, 그러면 당신은 이미 \" + age + \" 살이시군요\")"
   ]
  },
  {
   "cell_type": "code",
   "execution_count": 2,
   "id": "20c42586",
   "metadata": {},
   "outputs": [
    {
     "name": "stdout",
     "output_type": "stream",
     "text": [
      "합은  46\n"
     ]
    }
   ],
   "source": [
    "x = int(input(\"첫 번째 정수: \"))\n",
    "y = int(input(\"두 번째 정수: \"))\n",
    "sum =  x + y\n",
    "print(\"합은 \", sum)\n"
   ]
  },
  {
   "cell_type": "code",
   "execution_count": 4,
   "id": "143da63a",
   "metadata": {},
   "outputs": [
    {
     "data": {
      "text/plain": [
       "0.30000000000000004"
      ]
     },
     "execution_count": 4,
     "metadata": {},
     "output_type": "execute_result"
    }
   ],
   "source": [
    "a = 0.1\n",
    "b = 0.2\n",
    "a+b"
   ]
  },
  {
   "cell_type": "code",
   "execution_count": 8,
   "id": "7c55cfe8",
   "metadata": {},
   "outputs": [
    {
     "data": {
      "text/plain": [
       "False"
      ]
     },
     "execution_count": 8,
     "metadata": {},
     "output_type": "execute_result"
    }
   ],
   "source": [
    "10 == \"10\"\n"
   ]
  },
  {
   "cell_type": "code",
   "execution_count": 12,
   "id": "d975b2fe",
   "metadata": {},
   "outputs": [
    {
     "name": "stdout",
     "output_type": "stream",
     "text": [
      "doesn't\n"
     ]
    }
   ],
   "source": [
    "message = 'doesn\\'t'\n",
    "print(message)"
   ]
  },
  {
   "cell_type": "code",
   "execution_count": 14,
   "id": "71c198a0",
   "metadata": {},
   "outputs": [
    {
     "name": "stdout",
     "output_type": "stream",
     "text": [
      "첫 번째 줄\n",
      "두 번째 줄\n"
     ]
    }
   ],
   "source": [
    "a = \"첫 번째 줄\\n두 번째 줄\"\n",
    "print(a)"
   ]
  },
  {
   "cell_type": "code",
   "execution_count": 23,
   "id": "ceb7e14c",
   "metadata": {},
   "outputs": [
    {
     "name": "stdout",
     "output_type": "stream",
     "text": [
      "현재 시간은 12:00pm 입니다, 그리고 온도는 25도입니다.\n"
     ]
    }
   ],
   "source": [
    "message = \"현재 시간은 %s 입니다, 그리고 온도는 %d도입니다.\"\n",
    "time = \"12:00pm\"\n",
    "temp = 25\n",
    "print(message % (time, temp))\n"
   ]
  },
  {
   "cell_type": "code",
   "execution_count": 1,
   "id": "6f3061c2",
   "metadata": {},
   "outputs": [
    {
     "name": "stdout",
     "output_type": "stream",
     "text": [
      "오늘은 7월 3일입니다.\n"
     ]
    }
   ],
   "source": [
    "message = \"오늘은 %s월 %s일입니다.\"\n",
    "x = input(\"월\")\n",
    "y = input(\"일\")\n",
    "print(message % (x , y))"
   ]
  },
  {
   "cell_type": "code",
   "execution_count": null,
   "id": "5697e682",
   "metadata": {},
   "outputs": [],
   "source": [
    "#1번\n",
    "\n",
    "x = int(input())\n",
    "y = int(input())\n",
    "\n",
    "print(\"첫 번째 수 : %d\\n두 번째 수 : %d\"% (x,y))\n",
    "\n",
    "a = x+y\n",
    "b = x-y\n",
    "c = x*y\n",
    "d = (x+y)//2\n",
    "e = max(x,y)\n",
    "f = min(x,y)\n",
    "\n",
    "print(a,b,c,d,e,f)"
   ]
  },
  {
   "cell_type": "code",
   "execution_count": 23,
   "id": "83da282b",
   "metadata": {},
   "outputs": [
    {
     "name": "stdout",
     "output_type": "stream",
     "text": [
      "전체 다리의 수 = 32 개\n"
     ]
    }
   ],
   "source": [
    "#2번\n",
    "\n",
    "a = 2 * 2\n",
    "b = 4 * 4\n",
    "c = 3 * 4\n",
    "d = a + b + c\n",
    "\n",
    "print(\"전체 다리의 수 = %d 개\" % (d))\n"
   ]
  },
  {
   "cell_type": "code",
   "execution_count": 16,
   "id": "fe15b796",
   "metadata": {},
   "outputs": [
    {
     "name": "stdout",
     "output_type": "stream",
     "text": [
      "5.0\n"
     ]
    }
   ],
   "source": [
    "#3번\n",
    "import math\n",
    "\n",
    "x = float(input(\"첫 번째 변의 길이\"))\n",
    "y = float(input(\"두 번째 변의 길이\"))\n",
    "\n",
    "z = (x**2) + (y**2)\n",
    "\n",
    "print(math.sqrt(z))"
   ]
  },
  {
   "cell_type": "code",
   "execution_count": null,
   "id": "4bcd1b1d",
   "metadata": {},
   "outputs": [
    {
     "name": "stdout",
     "output_type": "stream",
     "text": [
      "초 : 17040\n"
     ]
    }
   ],
   "source": [
    "#4번\n",
    "\n",
    "x = int(input(\"시 : \"))\n",
    "y = int(input(\"분 : \"))\n",
    "\n",
    "z = x*3600 + y*60\n",
    "\n",
    "print(\"초 : %d\" % (z))"
   ]
  },
  {
   "cell_type": "code",
   "execution_count": null,
   "id": "8031a8e9",
   "metadata": {},
   "outputs": [],
   "source": [
    "#5번\n",
    "\n",
    "f = float(input(\"화씨 온도 : \"))\n",
    "c = (f-32.0)*(5/9)\n",
    "\n",
    "print(\"섭씨 온도 : %d\" % (c))"
   ]
  }
 ],
 "metadata": {
  "kernelspec": {
   "display_name": "Python 3",
   "language": "python",
   "name": "python3"
  },
  "language_info": {
   "codemirror_mode": {
    "name": "ipython",
    "version": 3
   },
   "file_extension": ".py",
   "mimetype": "text/x-python",
   "name": "python",
   "nbconvert_exporter": "python",
   "pygments_lexer": "ipython3",
   "version": "3.12.5"
  }
 },
 "nbformat": 4,
 "nbformat_minor": 5
}
